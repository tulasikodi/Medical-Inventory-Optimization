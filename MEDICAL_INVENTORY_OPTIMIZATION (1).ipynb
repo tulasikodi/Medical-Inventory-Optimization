{
  "cells": [
    {
      "cell_type": "markdown",
      "metadata": {
        "id": "view-in-github",
        "colab_type": "text"
      },
      "source": [
        "<a href=\"https://colab.research.google.com/github/tulasikodi/Medical-Inventory-Optimization/blob/main/MEDICAL_INVENTORY_OPTIMIZATION.ipynb\" target=\"_parent\"><img src=\"https://colab.research.google.com/assets/colab-badge.svg\" alt=\"Open In Colab\"/></a>"
      ]
    },
    {
      "cell_type": "markdown",
      "source": [
        "loading packages"
      ],
      "metadata": {
        "id": "26w_kciJSRSS"
      }
    },
    {
      "cell_type": "code",
      "execution_count": null,
      "metadata": {
        "id": "-IyPyUijZMtg"
      },
      "outputs": [],
      "source": [
        " import pandas as pd\n",
        "import numpy as np\n",
        "import seaborn as sns\n",
        "import matplotlib.pyplot as plt\n",
        "import plotly.express as px"
      ]
    },
    {
      "cell_type": "markdown",
      "source": [
        "# New Section"
      ],
      "metadata": {
        "id": "p9sOaeUM3zys"
      }
    },
    {
      "cell_type": "code",
      "execution_count": null,
      "metadata": {
        "id": "mS5u5mzCbmVE",
        "colab": {
          "base_uri": "https://localhost:8080/"
        },
        "outputId": "6b045f71-3552-4bfa-c43c-766540e3e429"
      },
      "outputs": [
        {
          "output_type": "stream",
          "name": "stdout",
          "text": [
            "Drive already mounted at /content/drive; to attempt to forcibly remount, call drive.mount(\"/content/drive\", force_remount=True).\n"
          ]
        }
      ],
      "source": [
        "from google.colab import drive\n",
        "drive.mount('/content/drive')"
      ]
    },
    {
      "cell_type": "markdown",
      "source": [
        "loading dataset"
      ],
      "metadata": {
        "id": "qeDl3PLSSmd3"
      }
    },
    {
      "cell_type": "code",
      "execution_count": null,
      "metadata": {
        "id": "gqbl_a73cFv6"
      },
      "outputs": [],
      "source": [
        "df= pd.read_excel(\"/content/Medical Inventory Optimaization Dataset.xlsx\")"
      ]
    },
    {
      "cell_type": "markdown",
      "source": [
        "data preprocessing"
      ],
      "metadata": {
        "id": "C5iivDo8SpxL"
      }
    },
    {
      "cell_type": "code",
      "execution_count": null,
      "metadata": {
        "colab": {
          "base_uri": "https://localhost:8080/"
        },
        "id": "G8jYmQ6EdALK",
        "outputId": "ed79fd25-5315-455a-e594-675a3cb2533f"
      },
      "outputs": [
        {
          "output_type": "stream",
          "name": "stdout",
          "text": [
            "<class 'pandas.core.frame.DataFrame'>\n",
            "RangeIndex: 14218 entries, 0 to 14217\n",
            "Data columns (total 14 columns):\n",
            " #   Column          Non-Null Count  Dtype  \n",
            "---  ------          --------------  -----  \n",
            " 0   Typeofsales     14218 non-null  object \n",
            " 1   Patient_ID      14218 non-null  int64  \n",
            " 2   Specialisation  14218 non-null  object \n",
            " 3   Dept            14218 non-null  object \n",
            " 4   Dateofbill      14218 non-null  object \n",
            " 5   Quantity        14218 non-null  int64  \n",
            " 6   ReturnQuantity  14218 non-null  int64  \n",
            " 7   Final_Cost      14218 non-null  float64\n",
            " 8   Final_Sales     14218 non-null  float64\n",
            " 9   RtnMRP          14218 non-null  float64\n",
            " 10  Formulation     13565 non-null  object \n",
            " 11  DrugName        12550 non-null  object \n",
            " 12  SubCat          12550 non-null  object \n",
            " 13  SubCat1         12526 non-null  object \n",
            "dtypes: float64(3), int64(3), object(8)\n",
            "memory usage: 1.5+ MB\n"
          ]
        }
      ],
      "source": [
        "df.info()"
      ]
    },
    {
      "cell_type": "code",
      "execution_count": null,
      "metadata": {
        "colab": {
          "base_uri": "https://localhost:8080/",
          "height": 382
        },
        "id": "1tcbmLLreMCx",
        "outputId": "7b57c33e-8665-4204-8228-61e78f2803c8"
      },
      "outputs": [
        {
          "output_type": "execute_result",
          "data": {
            "text/plain": [
              "  Typeofsales   Patient_ID    Specialisation         Dept  \\\n",
              "0        Sale  12018098765   Specialisation6  Department1   \n",
              "1        Sale  12018103897   Specialisation7  Department1   \n",
              "2        Sale  12018101123   Specialisation2  Department3   \n",
              "3        Sale  12018079281  Specialisation40  Department1   \n",
              "4        Sale  12018117928   Specialisation5  Department1   \n",
              "\n",
              "            Dateofbill  Quantity  ReturnQuantity  Final_Cost  Final_Sales  \\\n",
              "0  2022-01-06 00:00:00         1               0      55.406       59.260   \n",
              "1            7/23/2022         1               0     768.638      950.800   \n",
              "2            6/23/2022         1               0     774.266     4004.214   \n",
              "3            3/17/2022         2               0      40.798       81.044   \n",
              "4           12/21/2022         1               0      40.434       40.504   \n",
              "\n",
              "   RtnMRP Formulation                           DrugName              SubCat  \\\n",
              "0     0.0       Form1          ZINC ACETATE 20MG/5ML SYP  SYRUP & SUSPENSION   \n",
              "1     0.0       Form1    CEFTAZIDIME 2GM+AVIBACTAM 500MG          INJECTIONS   \n",
              "2     0.0       Form2             EPTIFIBATIDE 0.75MG/ML          INJECTIONS   \n",
              "3     0.0       Form1  WATER FOR INJECTION 10ML SOLUTION          INJECTIONS   \n",
              "4     0.0       Form1                      LORAZEPAM 1MG  TABLETS & CAPSULES   \n",
              "\n",
              "                                 SubCat1  \n",
              "0                    VITAMINS & MINERALS  \n",
              "1                        ANTI-INFECTIVES  \n",
              "2  CARDIOVASCULAR & HEMATOPOIETIC SYSTEM  \n",
              "3  INTRAVENOUS & OTHER STERILE SOLUTIONS  \n",
              "4                 CENTRAL NERVOUS SYSTEM  "
            ],
            "text/html": [
              "\n",
              "  <div id=\"df-dde8541a-2350-4c85-bc58-e1c23016dfec\" class=\"colab-df-container\">\n",
              "    <div>\n",
              "<style scoped>\n",
              "    .dataframe tbody tr th:only-of-type {\n",
              "        vertical-align: middle;\n",
              "    }\n",
              "\n",
              "    .dataframe tbody tr th {\n",
              "        vertical-align: top;\n",
              "    }\n",
              "\n",
              "    .dataframe thead th {\n",
              "        text-align: right;\n",
              "    }\n",
              "</style>\n",
              "<table border=\"1\" class=\"dataframe\">\n",
              "  <thead>\n",
              "    <tr style=\"text-align: right;\">\n",
              "      <th></th>\n",
              "      <th>Typeofsales</th>\n",
              "      <th>Patient_ID</th>\n",
              "      <th>Specialisation</th>\n",
              "      <th>Dept</th>\n",
              "      <th>Dateofbill</th>\n",
              "      <th>Quantity</th>\n",
              "      <th>ReturnQuantity</th>\n",
              "      <th>Final_Cost</th>\n",
              "      <th>Final_Sales</th>\n",
              "      <th>RtnMRP</th>\n",
              "      <th>Formulation</th>\n",
              "      <th>DrugName</th>\n",
              "      <th>SubCat</th>\n",
              "      <th>SubCat1</th>\n",
              "    </tr>\n",
              "  </thead>\n",
              "  <tbody>\n",
              "    <tr>\n",
              "      <th>0</th>\n",
              "      <td>Sale</td>\n",
              "      <td>12018098765</td>\n",
              "      <td>Specialisation6</td>\n",
              "      <td>Department1</td>\n",
              "      <td>2022-01-06 00:00:00</td>\n",
              "      <td>1</td>\n",
              "      <td>0</td>\n",
              "      <td>55.406</td>\n",
              "      <td>59.260</td>\n",
              "      <td>0.0</td>\n",
              "      <td>Form1</td>\n",
              "      <td>ZINC ACETATE 20MG/5ML SYP</td>\n",
              "      <td>SYRUP &amp; SUSPENSION</td>\n",
              "      <td>VITAMINS &amp; MINERALS</td>\n",
              "    </tr>\n",
              "    <tr>\n",
              "      <th>1</th>\n",
              "      <td>Sale</td>\n",
              "      <td>12018103897</td>\n",
              "      <td>Specialisation7</td>\n",
              "      <td>Department1</td>\n",
              "      <td>7/23/2022</td>\n",
              "      <td>1</td>\n",
              "      <td>0</td>\n",
              "      <td>768.638</td>\n",
              "      <td>950.800</td>\n",
              "      <td>0.0</td>\n",
              "      <td>Form1</td>\n",
              "      <td>CEFTAZIDIME 2GM+AVIBACTAM 500MG</td>\n",
              "      <td>INJECTIONS</td>\n",
              "      <td>ANTI-INFECTIVES</td>\n",
              "    </tr>\n",
              "    <tr>\n",
              "      <th>2</th>\n",
              "      <td>Sale</td>\n",
              "      <td>12018101123</td>\n",
              "      <td>Specialisation2</td>\n",
              "      <td>Department3</td>\n",
              "      <td>6/23/2022</td>\n",
              "      <td>1</td>\n",
              "      <td>0</td>\n",
              "      <td>774.266</td>\n",
              "      <td>4004.214</td>\n",
              "      <td>0.0</td>\n",
              "      <td>Form2</td>\n",
              "      <td>EPTIFIBATIDE 0.75MG/ML</td>\n",
              "      <td>INJECTIONS</td>\n",
              "      <td>CARDIOVASCULAR &amp; HEMATOPOIETIC SYSTEM</td>\n",
              "    </tr>\n",
              "    <tr>\n",
              "      <th>3</th>\n",
              "      <td>Sale</td>\n",
              "      <td>12018079281</td>\n",
              "      <td>Specialisation40</td>\n",
              "      <td>Department1</td>\n",
              "      <td>3/17/2022</td>\n",
              "      <td>2</td>\n",
              "      <td>0</td>\n",
              "      <td>40.798</td>\n",
              "      <td>81.044</td>\n",
              "      <td>0.0</td>\n",
              "      <td>Form1</td>\n",
              "      <td>WATER FOR INJECTION 10ML SOLUTION</td>\n",
              "      <td>INJECTIONS</td>\n",
              "      <td>INTRAVENOUS &amp; OTHER STERILE SOLUTIONS</td>\n",
              "    </tr>\n",
              "    <tr>\n",
              "      <th>4</th>\n",
              "      <td>Sale</td>\n",
              "      <td>12018117928</td>\n",
              "      <td>Specialisation5</td>\n",
              "      <td>Department1</td>\n",
              "      <td>12/21/2022</td>\n",
              "      <td>1</td>\n",
              "      <td>0</td>\n",
              "      <td>40.434</td>\n",
              "      <td>40.504</td>\n",
              "      <td>0.0</td>\n",
              "      <td>Form1</td>\n",
              "      <td>LORAZEPAM 1MG</td>\n",
              "      <td>TABLETS &amp; CAPSULES</td>\n",
              "      <td>CENTRAL NERVOUS SYSTEM</td>\n",
              "    </tr>\n",
              "  </tbody>\n",
              "</table>\n",
              "</div>\n",
              "    <div class=\"colab-df-buttons\">\n",
              "\n",
              "  <div class=\"colab-df-container\">\n",
              "    <button class=\"colab-df-convert\" onclick=\"convertToInteractive('df-dde8541a-2350-4c85-bc58-e1c23016dfec')\"\n",
              "            title=\"Convert this dataframe to an interactive table.\"\n",
              "            style=\"display:none;\">\n",
              "\n",
              "  <svg xmlns=\"http://www.w3.org/2000/svg\" height=\"24px\" viewBox=\"0 -960 960 960\">\n",
              "    <path d=\"M120-120v-720h720v720H120Zm60-500h600v-160H180v160Zm220 220h160v-160H400v160Zm0 220h160v-160H400v160ZM180-400h160v-160H180v160Zm440 0h160v-160H620v160ZM180-180h160v-160H180v160Zm440 0h160v-160H620v160Z\"/>\n",
              "  </svg>\n",
              "    </button>\n",
              "\n",
              "  <style>\n",
              "    .colab-df-container {\n",
              "      display:flex;\n",
              "      gap: 12px;\n",
              "    }\n",
              "\n",
              "    .colab-df-convert {\n",
              "      background-color: #E8F0FE;\n",
              "      border: none;\n",
              "      border-radius: 50%;\n",
              "      cursor: pointer;\n",
              "      display: none;\n",
              "      fill: #1967D2;\n",
              "      height: 32px;\n",
              "      padding: 0 0 0 0;\n",
              "      width: 32px;\n",
              "    }\n",
              "\n",
              "    .colab-df-convert:hover {\n",
              "      background-color: #E2EBFA;\n",
              "      box-shadow: 0px 1px 2px rgba(60, 64, 67, 0.3), 0px 1px 3px 1px rgba(60, 64, 67, 0.15);\n",
              "      fill: #174EA6;\n",
              "    }\n",
              "\n",
              "    .colab-df-buttons div {\n",
              "      margin-bottom: 4px;\n",
              "    }\n",
              "\n",
              "    [theme=dark] .colab-df-convert {\n",
              "      background-color: #3B4455;\n",
              "      fill: #D2E3FC;\n",
              "    }\n",
              "\n",
              "    [theme=dark] .colab-df-convert:hover {\n",
              "      background-color: #434B5C;\n",
              "      box-shadow: 0px 1px 3px 1px rgba(0, 0, 0, 0.15);\n",
              "      filter: drop-shadow(0px 1px 2px rgba(0, 0, 0, 0.3));\n",
              "      fill: #FFFFFF;\n",
              "    }\n",
              "  </style>\n",
              "\n",
              "    <script>\n",
              "      const buttonEl =\n",
              "        document.querySelector('#df-dde8541a-2350-4c85-bc58-e1c23016dfec button.colab-df-convert');\n",
              "      buttonEl.style.display =\n",
              "        google.colab.kernel.accessAllowed ? 'block' : 'none';\n",
              "\n",
              "      async function convertToInteractive(key) {\n",
              "        const element = document.querySelector('#df-dde8541a-2350-4c85-bc58-e1c23016dfec');\n",
              "        const dataTable =\n",
              "          await google.colab.kernel.invokeFunction('convertToInteractive',\n",
              "                                                    [key], {});\n",
              "        if (!dataTable) return;\n",
              "\n",
              "        const docLinkHtml = 'Like what you see? Visit the ' +\n",
              "          '<a target=\"_blank\" href=https://colab.research.google.com/notebooks/data_table.ipynb>data table notebook</a>'\n",
              "          + ' to learn more about interactive tables.';\n",
              "        element.innerHTML = '';\n",
              "        dataTable['output_type'] = 'display_data';\n",
              "        await google.colab.output.renderOutput(dataTable, element);\n",
              "        const docLink = document.createElement('div');\n",
              "        docLink.innerHTML = docLinkHtml;\n",
              "        element.appendChild(docLink);\n",
              "      }\n",
              "    </script>\n",
              "  </div>\n",
              "\n",
              "\n",
              "<div id=\"df-7d376deb-0f37-4f4c-95a6-fa9e57844ec2\">\n",
              "  <button class=\"colab-df-quickchart\" onclick=\"quickchart('df-7d376deb-0f37-4f4c-95a6-fa9e57844ec2')\"\n",
              "            title=\"Suggest charts\"\n",
              "            style=\"display:none;\">\n",
              "\n",
              "<svg xmlns=\"http://www.w3.org/2000/svg\" height=\"24px\"viewBox=\"0 0 24 24\"\n",
              "     width=\"24px\">\n",
              "    <g>\n",
              "        <path d=\"M19 3H5c-1.1 0-2 .9-2 2v14c0 1.1.9 2 2 2h14c1.1 0 2-.9 2-2V5c0-1.1-.9-2-2-2zM9 17H7v-7h2v7zm4 0h-2V7h2v10zm4 0h-2v-4h2v4z\"/>\n",
              "    </g>\n",
              "</svg>\n",
              "  </button>\n",
              "\n",
              "<style>\n",
              "  .colab-df-quickchart {\n",
              "      --bg-color: #E8F0FE;\n",
              "      --fill-color: #1967D2;\n",
              "      --hover-bg-color: #E2EBFA;\n",
              "      --hover-fill-color: #174EA6;\n",
              "      --disabled-fill-color: #AAA;\n",
              "      --disabled-bg-color: #DDD;\n",
              "  }\n",
              "\n",
              "  [theme=dark] .colab-df-quickchart {\n",
              "      --bg-color: #3B4455;\n",
              "      --fill-color: #D2E3FC;\n",
              "      --hover-bg-color: #434B5C;\n",
              "      --hover-fill-color: #FFFFFF;\n",
              "      --disabled-bg-color: #3B4455;\n",
              "      --disabled-fill-color: #666;\n",
              "  }\n",
              "\n",
              "  .colab-df-quickchart {\n",
              "    background-color: var(--bg-color);\n",
              "    border: none;\n",
              "    border-radius: 50%;\n",
              "    cursor: pointer;\n",
              "    display: none;\n",
              "    fill: var(--fill-color);\n",
              "    height: 32px;\n",
              "    padding: 0;\n",
              "    width: 32px;\n",
              "  }\n",
              "\n",
              "  .colab-df-quickchart:hover {\n",
              "    background-color: var(--hover-bg-color);\n",
              "    box-shadow: 0 1px 2px rgba(60, 64, 67, 0.3), 0 1px 3px 1px rgba(60, 64, 67, 0.15);\n",
              "    fill: var(--button-hover-fill-color);\n",
              "  }\n",
              "\n",
              "  .colab-df-quickchart-complete:disabled,\n",
              "  .colab-df-quickchart-complete:disabled:hover {\n",
              "    background-color: var(--disabled-bg-color);\n",
              "    fill: var(--disabled-fill-color);\n",
              "    box-shadow: none;\n",
              "  }\n",
              "\n",
              "  .colab-df-spinner {\n",
              "    border: 2px solid var(--fill-color);\n",
              "    border-color: transparent;\n",
              "    border-bottom-color: var(--fill-color);\n",
              "    animation:\n",
              "      spin 1s steps(1) infinite;\n",
              "  }\n",
              "\n",
              "  @keyframes spin {\n",
              "    0% {\n",
              "      border-color: transparent;\n",
              "      border-bottom-color: var(--fill-color);\n",
              "      border-left-color: var(--fill-color);\n",
              "    }\n",
              "    20% {\n",
              "      border-color: transparent;\n",
              "      border-left-color: var(--fill-color);\n",
              "      border-top-color: var(--fill-color);\n",
              "    }\n",
              "    30% {\n",
              "      border-color: transparent;\n",
              "      border-left-color: var(--fill-color);\n",
              "      border-top-color: var(--fill-color);\n",
              "      border-right-color: var(--fill-color);\n",
              "    }\n",
              "    40% {\n",
              "      border-color: transparent;\n",
              "      border-right-color: var(--fill-color);\n",
              "      border-top-color: var(--fill-color);\n",
              "    }\n",
              "    60% {\n",
              "      border-color: transparent;\n",
              "      border-right-color: var(--fill-color);\n",
              "    }\n",
              "    80% {\n",
              "      border-color: transparent;\n",
              "      border-right-color: var(--fill-color);\n",
              "      border-bottom-color: var(--fill-color);\n",
              "    }\n",
              "    90% {\n",
              "      border-color: transparent;\n",
              "      border-bottom-color: var(--fill-color);\n",
              "    }\n",
              "  }\n",
              "</style>\n",
              "\n",
              "  <script>\n",
              "    async function quickchart(key) {\n",
              "      const quickchartButtonEl =\n",
              "        document.querySelector('#' + key + ' button');\n",
              "      quickchartButtonEl.disabled = true;  // To prevent multiple clicks.\n",
              "      quickchartButtonEl.classList.add('colab-df-spinner');\n",
              "      try {\n",
              "        const charts = await google.colab.kernel.invokeFunction(\n",
              "            'suggestCharts', [key], {});\n",
              "      } catch (error) {\n",
              "        console.error('Error during call to suggestCharts:', error);\n",
              "      }\n",
              "      quickchartButtonEl.classList.remove('colab-df-spinner');\n",
              "      quickchartButtonEl.classList.add('colab-df-quickchart-complete');\n",
              "    }\n",
              "    (() => {\n",
              "      let quickchartButtonEl =\n",
              "        document.querySelector('#df-7d376deb-0f37-4f4c-95a6-fa9e57844ec2 button');\n",
              "      quickchartButtonEl.style.display =\n",
              "        google.colab.kernel.accessAllowed ? 'block' : 'none';\n",
              "    })();\n",
              "  </script>\n",
              "</div>\n",
              "\n",
              "    </div>\n",
              "  </div>\n"
            ],
            "application/vnd.google.colaboratory.intrinsic+json": {
              "type": "dataframe",
              "variable_name": "df",
              "summary": "{\n  \"name\": \"df\",\n  \"rows\": 14218,\n  \"fields\": [\n    {\n      \"column\": \"Typeofsales\",\n      \"properties\": {\n        \"dtype\": \"category\",\n        \"num_unique_values\": 2,\n        \"samples\": [\n          \"Return\",\n          \"Sale\"\n        ],\n        \"semantic_type\": \"\",\n        \"description\": \"\"\n      }\n    },\n    {\n      \"column\": \"Patient_ID\",\n      \"properties\": {\n        \"dtype\": \"number\",\n        \"std\": 28102,\n        \"min\": 12017998218,\n        \"max\": 12018125353,\n        \"num_unique_values\": 4883,\n        \"samples\": [\n          12018101846,\n          12018081318\n        ],\n        \"semantic_type\": \"\",\n        \"description\": \"\"\n      }\n    },\n    {\n      \"column\": \"Specialisation\",\n      \"properties\": {\n        \"dtype\": \"category\",\n        \"num_unique_values\": 58,\n        \"samples\": [\n          \"Specialisation6\",\n          \"Specialisation4\"\n        ],\n        \"semantic_type\": \"\",\n        \"description\": \"\"\n      }\n    },\n    {\n      \"column\": \"Dept\",\n      \"properties\": {\n        \"dtype\": \"category\",\n        \"num_unique_values\": 3,\n        \"samples\": [\n          \"Department1\",\n          \"Department3\"\n        ],\n        \"semantic_type\": \"\",\n        \"description\": \"\"\n      }\n    },\n    {\n      \"column\": \"Dateofbill\",\n      \"properties\": {\n        \"dtype\": \"date\",\n        \"min\": \"2022-01-01 00:00:00\",\n        \"max\": \"2022-12-31 00:00:00\",\n        \"num_unique_values\": 365,\n        \"samples\": [\n          \"2022-10-01 00:00:00\",\n          \"8/22/2022\"\n        ],\n        \"semantic_type\": \"\",\n        \"description\": \"\"\n      }\n    },\n    {\n      \"column\": \"Quantity\",\n      \"properties\": {\n        \"dtype\": \"number\",\n        \"std\": 5,\n        \"min\": 0,\n        \"max\": 150,\n        \"num_unique_values\": 45,\n        \"samples\": [\n          150,\n          19\n        ],\n        \"semantic_type\": \"\",\n        \"description\": \"\"\n      }\n    },\n    {\n      \"column\": \"ReturnQuantity\",\n      \"properties\": {\n        \"dtype\": \"number\",\n        \"std\": 1,\n        \"min\": 0,\n        \"max\": 50,\n        \"num_unique_values\": 33,\n        \"samples\": [\n          24,\n          6\n        ],\n        \"semantic_type\": \"\",\n        \"description\": \"\"\n      }\n    },\n    {\n      \"column\": \"Final_Cost\",\n      \"properties\": {\n        \"dtype\": \"number\",\n        \"std\": 464.78279377975025,\n        \"min\": 40.0,\n        \"max\": 33178.0,\n        \"num_unique_values\": 2322,\n        \"samples\": [\n          45.7,\n          279.792\n        ],\n        \"semantic_type\": \"\",\n        \"description\": \"\"\n      }\n    },\n    {\n      \"column\": \"Final_Sales\",\n      \"properties\": {\n        \"dtype\": \"number\",\n        \"std\": 671.2615717182335,\n        \"min\": 0.0,\n        \"max\": 39490.0,\n        \"num_unique_values\": 2042,\n        \"samples\": [\n          43.88,\n          114.168\n        ],\n        \"semantic_type\": \"\",\n        \"description\": \"\"\n      }\n    },\n    {\n      \"column\": \"RtnMRP\",\n      \"properties\": {\n        \"dtype\": \"number\",\n        \"std\": 182.26233548999025,\n        \"min\": 0.0,\n        \"max\": 8014.0,\n        \"num_unique_values\": 689,\n        \"samples\": [\n          413.66,\n          461.82\n        ],\n        \"semantic_type\": \"\",\n        \"description\": \"\"\n      }\n    },\n    {\n      \"column\": \"Formulation\",\n      \"properties\": {\n        \"dtype\": \"category\",\n        \"num_unique_values\": 4,\n        \"samples\": [\n          \"Form2\",\n          \"Form3\"\n        ],\n        \"semantic_type\": \"\",\n        \"description\": \"\"\n      }\n    },\n    {\n      \"column\": \"DrugName\",\n      \"properties\": {\n        \"dtype\": \"category\",\n        \"num_unique_values\": 751,\n        \"samples\": [\n          \"PREDNISOLONE 5MG\",\n          \"PHENYLEPHRINE 10 MG\"\n        ],\n        \"semantic_type\": \"\",\n        \"description\": \"\"\n      }\n    },\n    {\n      \"column\": \"SubCat\",\n      \"properties\": {\n        \"dtype\": \"category\",\n        \"num_unique_values\": 17,\n        \"samples\": [\n          \"SYRUP & SUSPENSION\",\n          \"INJECTIONS\"\n        ],\n        \"semantic_type\": \"\",\n        \"description\": \"\"\n      }\n    },\n    {\n      \"column\": \"SubCat1\",\n      \"properties\": {\n        \"dtype\": \"category\",\n        \"num_unique_values\": 21,\n        \"samples\": [\n          \"VITAMINS & MINERALS\",\n          \"MISCELLANEOUS\"\n        ],\n        \"semantic_type\": \"\",\n        \"description\": \"\"\n      }\n    }\n  ]\n}"
            }
          },
          "metadata": {},
          "execution_count": 159
        }
      ],
      "source": [
        "df.head()"
      ]
    },
    {
      "cell_type": "code",
      "execution_count": null,
      "metadata": {
        "id": "Vngg56JbhzUC",
        "colab": {
          "base_uri": "https://localhost:8080/"
        },
        "outputId": "dc46654b-a559-4249-ee51-2eccada90b58"
      },
      "outputs": [
        {
          "output_type": "stream",
          "name": "stdout",
          "text": [
            "Index(['Typeofsales', 'Patient_ID', 'Specialisation', 'Dept', 'Dateofbill',\n",
            "       'Quantity', 'ReturnQuantity', 'Final_Cost', 'Final_Sales', 'RtnMRP',\n",
            "       'Formulation', 'DrugName', 'SubCat', 'SubCat1'],\n",
            "      dtype='object')\n"
          ]
        }
      ],
      "source": [
        "#display column names\n",
        "df_columns =df.columns\n",
        "print(df_columns)"
      ]
    },
    {
      "cell_type": "code",
      "execution_count": null,
      "metadata": {
        "colab": {
          "base_uri": "https://localhost:8080/"
        },
        "id": "1daAKIJ-eeWU",
        "outputId": "203ce199-dffc-4bc4-9353-8b625a1c367d"
      },
      "outputs": [
        {
          "output_type": "execute_result",
          "data": {
            "text/plain": [
              "(14218, 14)"
            ]
          },
          "metadata": {},
          "execution_count": 161
        }
      ],
      "source": [
        "#display shape of the data\n",
        "df.shape"
      ]
    },
    {
      "cell_type": "code",
      "execution_count": null,
      "metadata": {
        "colab": {
          "base_uri": "https://localhost:8080/",
          "height": 320
        },
        "id": "Ot2QmHS1eqAb",
        "outputId": "e20ae668-8444-400c-a438-114ef77675e9"
      },
      "outputs": [
        {
          "output_type": "execute_result",
          "data": {
            "text/plain": [
              "         Patient_ID      Quantity  ReturnQuantity    Final_Cost   Final_Sales  \\\n",
              "count  1.421800e+04  14218.000000    14218.000000  14218.000000  14218.000000   \n",
              "mean   1.201809e+10      2.231748        0.291954    124.823957    234.038300   \n",
              "std    2.810229e+04      5.132043        1.643322    464.782794    671.261572   \n",
              "min    1.201800e+10      0.000000        0.000000     40.000000      0.000000   \n",
              "25%    1.201808e+10      1.000000        0.000000     44.928000     47.815000   \n",
              "50%    1.201809e+10      1.000000        0.000000     53.650000     86.424000   \n",
              "75%    1.201811e+10      2.000000        0.000000     77.800000    181.000000   \n",
              "max    1.201813e+10    150.000000       50.000000  33178.000000  39490.000000   \n",
              "\n",
              "             RtnMRP  \n",
              "count  14218.000000  \n",
              "mean      29.126755  \n",
              "std      182.262335  \n",
              "min        0.000000  \n",
              "25%        0.000000  \n",
              "50%        0.000000  \n",
              "75%        0.000000  \n",
              "max     8014.000000  "
            ],
            "text/html": [
              "\n",
              "  <div id=\"df-3be04688-5787-4a7e-96b1-ac020057abbe\" class=\"colab-df-container\">\n",
              "    <div>\n",
              "<style scoped>\n",
              "    .dataframe tbody tr th:only-of-type {\n",
              "        vertical-align: middle;\n",
              "    }\n",
              "\n",
              "    .dataframe tbody tr th {\n",
              "        vertical-align: top;\n",
              "    }\n",
              "\n",
              "    .dataframe thead th {\n",
              "        text-align: right;\n",
              "    }\n",
              "</style>\n",
              "<table border=\"1\" class=\"dataframe\">\n",
              "  <thead>\n",
              "    <tr style=\"text-align: right;\">\n",
              "      <th></th>\n",
              "      <th>Patient_ID</th>\n",
              "      <th>Quantity</th>\n",
              "      <th>ReturnQuantity</th>\n",
              "      <th>Final_Cost</th>\n",
              "      <th>Final_Sales</th>\n",
              "      <th>RtnMRP</th>\n",
              "    </tr>\n",
              "  </thead>\n",
              "  <tbody>\n",
              "    <tr>\n",
              "      <th>count</th>\n",
              "      <td>1.421800e+04</td>\n",
              "      <td>14218.000000</td>\n",
              "      <td>14218.000000</td>\n",
              "      <td>14218.000000</td>\n",
              "      <td>14218.000000</td>\n",
              "      <td>14218.000000</td>\n",
              "    </tr>\n",
              "    <tr>\n",
              "      <th>mean</th>\n",
              "      <td>1.201809e+10</td>\n",
              "      <td>2.231748</td>\n",
              "      <td>0.291954</td>\n",
              "      <td>124.823957</td>\n",
              "      <td>234.038300</td>\n",
              "      <td>29.126755</td>\n",
              "    </tr>\n",
              "    <tr>\n",
              "      <th>std</th>\n",
              "      <td>2.810229e+04</td>\n",
              "      <td>5.132043</td>\n",
              "      <td>1.643322</td>\n",
              "      <td>464.782794</td>\n",
              "      <td>671.261572</td>\n",
              "      <td>182.262335</td>\n",
              "    </tr>\n",
              "    <tr>\n",
              "      <th>min</th>\n",
              "      <td>1.201800e+10</td>\n",
              "      <td>0.000000</td>\n",
              "      <td>0.000000</td>\n",
              "      <td>40.000000</td>\n",
              "      <td>0.000000</td>\n",
              "      <td>0.000000</td>\n",
              "    </tr>\n",
              "    <tr>\n",
              "      <th>25%</th>\n",
              "      <td>1.201808e+10</td>\n",
              "      <td>1.000000</td>\n",
              "      <td>0.000000</td>\n",
              "      <td>44.928000</td>\n",
              "      <td>47.815000</td>\n",
              "      <td>0.000000</td>\n",
              "    </tr>\n",
              "    <tr>\n",
              "      <th>50%</th>\n",
              "      <td>1.201809e+10</td>\n",
              "      <td>1.000000</td>\n",
              "      <td>0.000000</td>\n",
              "      <td>53.650000</td>\n",
              "      <td>86.424000</td>\n",
              "      <td>0.000000</td>\n",
              "    </tr>\n",
              "    <tr>\n",
              "      <th>75%</th>\n",
              "      <td>1.201811e+10</td>\n",
              "      <td>2.000000</td>\n",
              "      <td>0.000000</td>\n",
              "      <td>77.800000</td>\n",
              "      <td>181.000000</td>\n",
              "      <td>0.000000</td>\n",
              "    </tr>\n",
              "    <tr>\n",
              "      <th>max</th>\n",
              "      <td>1.201813e+10</td>\n",
              "      <td>150.000000</td>\n",
              "      <td>50.000000</td>\n",
              "      <td>33178.000000</td>\n",
              "      <td>39490.000000</td>\n",
              "      <td>8014.000000</td>\n",
              "    </tr>\n",
              "  </tbody>\n",
              "</table>\n",
              "</div>\n",
              "    <div class=\"colab-df-buttons\">\n",
              "\n",
              "  <div class=\"colab-df-container\">\n",
              "    <button class=\"colab-df-convert\" onclick=\"convertToInteractive('df-3be04688-5787-4a7e-96b1-ac020057abbe')\"\n",
              "            title=\"Convert this dataframe to an interactive table.\"\n",
              "            style=\"display:none;\">\n",
              "\n",
              "  <svg xmlns=\"http://www.w3.org/2000/svg\" height=\"24px\" viewBox=\"0 -960 960 960\">\n",
              "    <path d=\"M120-120v-720h720v720H120Zm60-500h600v-160H180v160Zm220 220h160v-160H400v160Zm0 220h160v-160H400v160ZM180-400h160v-160H180v160Zm440 0h160v-160H620v160ZM180-180h160v-160H180v160Zm440 0h160v-160H620v160Z\"/>\n",
              "  </svg>\n",
              "    </button>\n",
              "\n",
              "  <style>\n",
              "    .colab-df-container {\n",
              "      display:flex;\n",
              "      gap: 12px;\n",
              "    }\n",
              "\n",
              "    .colab-df-convert {\n",
              "      background-color: #E8F0FE;\n",
              "      border: none;\n",
              "      border-radius: 50%;\n",
              "      cursor: pointer;\n",
              "      display: none;\n",
              "      fill: #1967D2;\n",
              "      height: 32px;\n",
              "      padding: 0 0 0 0;\n",
              "      width: 32px;\n",
              "    }\n",
              "\n",
              "    .colab-df-convert:hover {\n",
              "      background-color: #E2EBFA;\n",
              "      box-shadow: 0px 1px 2px rgba(60, 64, 67, 0.3), 0px 1px 3px 1px rgba(60, 64, 67, 0.15);\n",
              "      fill: #174EA6;\n",
              "    }\n",
              "\n",
              "    .colab-df-buttons div {\n",
              "      margin-bottom: 4px;\n",
              "    }\n",
              "\n",
              "    [theme=dark] .colab-df-convert {\n",
              "      background-color: #3B4455;\n",
              "      fill: #D2E3FC;\n",
              "    }\n",
              "\n",
              "    [theme=dark] .colab-df-convert:hover {\n",
              "      background-color: #434B5C;\n",
              "      box-shadow: 0px 1px 3px 1px rgba(0, 0, 0, 0.15);\n",
              "      filter: drop-shadow(0px 1px 2px rgba(0, 0, 0, 0.3));\n",
              "      fill: #FFFFFF;\n",
              "    }\n",
              "  </style>\n",
              "\n",
              "    <script>\n",
              "      const buttonEl =\n",
              "        document.querySelector('#df-3be04688-5787-4a7e-96b1-ac020057abbe button.colab-df-convert');\n",
              "      buttonEl.style.display =\n",
              "        google.colab.kernel.accessAllowed ? 'block' : 'none';\n",
              "\n",
              "      async function convertToInteractive(key) {\n",
              "        const element = document.querySelector('#df-3be04688-5787-4a7e-96b1-ac020057abbe');\n",
              "        const dataTable =\n",
              "          await google.colab.kernel.invokeFunction('convertToInteractive',\n",
              "                                                    [key], {});\n",
              "        if (!dataTable) return;\n",
              "\n",
              "        const docLinkHtml = 'Like what you see? Visit the ' +\n",
              "          '<a target=\"_blank\" href=https://colab.research.google.com/notebooks/data_table.ipynb>data table notebook</a>'\n",
              "          + ' to learn more about interactive tables.';\n",
              "        element.innerHTML = '';\n",
              "        dataTable['output_type'] = 'display_data';\n",
              "        await google.colab.output.renderOutput(dataTable, element);\n",
              "        const docLink = document.createElement('div');\n",
              "        docLink.innerHTML = docLinkHtml;\n",
              "        element.appendChild(docLink);\n",
              "      }\n",
              "    </script>\n",
              "  </div>\n",
              "\n",
              "\n",
              "<div id=\"df-5118740e-e4c5-429b-bf62-4d6f73b94ab5\">\n",
              "  <button class=\"colab-df-quickchart\" onclick=\"quickchart('df-5118740e-e4c5-429b-bf62-4d6f73b94ab5')\"\n",
              "            title=\"Suggest charts\"\n",
              "            style=\"display:none;\">\n",
              "\n",
              "<svg xmlns=\"http://www.w3.org/2000/svg\" height=\"24px\"viewBox=\"0 0 24 24\"\n",
              "     width=\"24px\">\n",
              "    <g>\n",
              "        <path d=\"M19 3H5c-1.1 0-2 .9-2 2v14c0 1.1.9 2 2 2h14c1.1 0 2-.9 2-2V5c0-1.1-.9-2-2-2zM9 17H7v-7h2v7zm4 0h-2V7h2v10zm4 0h-2v-4h2v4z\"/>\n",
              "    </g>\n",
              "</svg>\n",
              "  </button>\n",
              "\n",
              "<style>\n",
              "  .colab-df-quickchart {\n",
              "      --bg-color: #E8F0FE;\n",
              "      --fill-color: #1967D2;\n",
              "      --hover-bg-color: #E2EBFA;\n",
              "      --hover-fill-color: #174EA6;\n",
              "      --disabled-fill-color: #AAA;\n",
              "      --disabled-bg-color: #DDD;\n",
              "  }\n",
              "\n",
              "  [theme=dark] .colab-df-quickchart {\n",
              "      --bg-color: #3B4455;\n",
              "      --fill-color: #D2E3FC;\n",
              "      --hover-bg-color: #434B5C;\n",
              "      --hover-fill-color: #FFFFFF;\n",
              "      --disabled-bg-color: #3B4455;\n",
              "      --disabled-fill-color: #666;\n",
              "  }\n",
              "\n",
              "  .colab-df-quickchart {\n",
              "    background-color: var(--bg-color);\n",
              "    border: none;\n",
              "    border-radius: 50%;\n",
              "    cursor: pointer;\n",
              "    display: none;\n",
              "    fill: var(--fill-color);\n",
              "    height: 32px;\n",
              "    padding: 0;\n",
              "    width: 32px;\n",
              "  }\n",
              "\n",
              "  .colab-df-quickchart:hover {\n",
              "    background-color: var(--hover-bg-color);\n",
              "    box-shadow: 0 1px 2px rgba(60, 64, 67, 0.3), 0 1px 3px 1px rgba(60, 64, 67, 0.15);\n",
              "    fill: var(--button-hover-fill-color);\n",
              "  }\n",
              "\n",
              "  .colab-df-quickchart-complete:disabled,\n",
              "  .colab-df-quickchart-complete:disabled:hover {\n",
              "    background-color: var(--disabled-bg-color);\n",
              "    fill: var(--disabled-fill-color);\n",
              "    box-shadow: none;\n",
              "  }\n",
              "\n",
              "  .colab-df-spinner {\n",
              "    border: 2px solid var(--fill-color);\n",
              "    border-color: transparent;\n",
              "    border-bottom-color: var(--fill-color);\n",
              "    animation:\n",
              "      spin 1s steps(1) infinite;\n",
              "  }\n",
              "\n",
              "  @keyframes spin {\n",
              "    0% {\n",
              "      border-color: transparent;\n",
              "      border-bottom-color: var(--fill-color);\n",
              "      border-left-color: var(--fill-color);\n",
              "    }\n",
              "    20% {\n",
              "      border-color: transparent;\n",
              "      border-left-color: var(--fill-color);\n",
              "      border-top-color: var(--fill-color);\n",
              "    }\n",
              "    30% {\n",
              "      border-color: transparent;\n",
              "      border-left-color: var(--fill-color);\n",
              "      border-top-color: var(--fill-color);\n",
              "      border-right-color: var(--fill-color);\n",
              "    }\n",
              "    40% {\n",
              "      border-color: transparent;\n",
              "      border-right-color: var(--fill-color);\n",
              "      border-top-color: var(--fill-color);\n",
              "    }\n",
              "    60% {\n",
              "      border-color: transparent;\n",
              "      border-right-color: var(--fill-color);\n",
              "    }\n",
              "    80% {\n",
              "      border-color: transparent;\n",
              "      border-right-color: var(--fill-color);\n",
              "      border-bottom-color: var(--fill-color);\n",
              "    }\n",
              "    90% {\n",
              "      border-color: transparent;\n",
              "      border-bottom-color: var(--fill-color);\n",
              "    }\n",
              "  }\n",
              "</style>\n",
              "\n",
              "  <script>\n",
              "    async function quickchart(key) {\n",
              "      const quickchartButtonEl =\n",
              "        document.querySelector('#' + key + ' button');\n",
              "      quickchartButtonEl.disabled = true;  // To prevent multiple clicks.\n",
              "      quickchartButtonEl.classList.add('colab-df-spinner');\n",
              "      try {\n",
              "        const charts = await google.colab.kernel.invokeFunction(\n",
              "            'suggestCharts', [key], {});\n",
              "      } catch (error) {\n",
              "        console.error('Error during call to suggestCharts:', error);\n",
              "      }\n",
              "      quickchartButtonEl.classList.remove('colab-df-spinner');\n",
              "      quickchartButtonEl.classList.add('colab-df-quickchart-complete');\n",
              "    }\n",
              "    (() => {\n",
              "      let quickchartButtonEl =\n",
              "        document.querySelector('#df-5118740e-e4c5-429b-bf62-4d6f73b94ab5 button');\n",
              "      quickchartButtonEl.style.display =\n",
              "        google.colab.kernel.accessAllowed ? 'block' : 'none';\n",
              "    })();\n",
              "  </script>\n",
              "</div>\n",
              "\n",
              "    </div>\n",
              "  </div>\n"
            ],
            "application/vnd.google.colaboratory.intrinsic+json": {
              "type": "dataframe",
              "summary": "{\n  \"name\": \"df\",\n  \"rows\": 8,\n  \"fields\": [\n    {\n      \"column\": \"Patient_ID\",\n      \"properties\": {\n        \"dtype\": \"number\",\n        \"std\": 5563280612.159916,\n        \"min\": 14218.0,\n        \"max\": 12018125353.0,\n        \"num_unique_values\": 8,\n        \"samples\": [\n          12018086321.298847,\n          12018091934.5,\n          14218.0\n        ],\n        \"semantic_type\": \"\",\n        \"description\": \"\"\n      }\n    },\n    {\n      \"column\": \"Quantity\",\n      \"properties\": {\n        \"dtype\": \"number\",\n        \"std\": 5018.939820301112,\n        \"min\": 0.0,\n        \"max\": 14218.0,\n        \"num_unique_values\": 7,\n        \"samples\": [\n          14218.0,\n          2.2317484878323253,\n          2.0\n        ],\n        \"semantic_type\": \"\",\n        \"description\": \"\"\n      }\n    },\n    {\n      \"column\": \"ReturnQuantity\",\n      \"properties\": {\n        \"dtype\": \"number\",\n        \"std\": 5024.229083571582,\n        \"min\": 0.0,\n        \"max\": 14218.0,\n        \"num_unique_values\": 5,\n        \"samples\": [\n          0.2919538613025742,\n          50.0,\n          1.6433217586085975\n        ],\n        \"semantic_type\": \"\",\n        \"description\": \"\"\n      }\n    },\n    {\n      \"column\": \"Final_Cost\",\n      \"properties\": {\n        \"dtype\": \"number\",\n        \"std\": 12028.219468130163,\n        \"min\": 40.0,\n        \"max\": 33178.0,\n        \"num_unique_values\": 8,\n        \"samples\": [\n          124.82395695597131,\n          53.65,\n          14218.0\n        ],\n        \"semantic_type\": \"\",\n        \"description\": \"\"\n      }\n    },\n    {\n      \"column\": \"Final_Sales\",\n      \"properties\": {\n        \"dtype\": \"number\",\n        \"std\": 14066.253733044121,\n        \"min\": 0.0,\n        \"max\": 39490.0,\n        \"num_unique_values\": 8,\n        \"samples\": [\n          234.0383004642003,\n          86.424,\n          14218.0\n        ],\n        \"semantic_type\": \"\",\n        \"description\": \"\"\n      }\n    },\n    {\n      \"column\": \"RtnMRP\",\n      \"properties\": {\n        \"dtype\": \"number\",\n        \"std\": 5391.084885433343,\n        \"min\": 0.0,\n        \"max\": 14218.0,\n        \"num_unique_values\": 5,\n        \"samples\": [\n          29.126754958503305,\n          8014.0,\n          182.26233548999025\n        ],\n        \"semantic_type\": \"\",\n        \"description\": \"\"\n      }\n    }\n  ]\n}"
            }
          },
          "metadata": {},
          "execution_count": 162
        }
      ],
      "source": [
        "df.describe()"
      ]
    },
    {
      "cell_type": "markdown",
      "source": [
        "HANDLING MISSING VALUES"
      ],
      "metadata": {
        "id": "_jHN9nG52Xcu"
      }
    },
    {
      "cell_type": "code",
      "execution_count": null,
      "metadata": {
        "colab": {
          "base_uri": "https://localhost:8080/"
        },
        "id": "BPRyGHa8evjk",
        "outputId": "6ada4464-9689-4d10-bf62-d963ae88490e"
      },
      "outputs": [
        {
          "output_type": "execute_result",
          "data": {
            "text/plain": [
              "Typeofsales          0\n",
              "Patient_ID           0\n",
              "Specialisation       0\n",
              "Dept                 0\n",
              "Dateofbill           0\n",
              "Quantity             0\n",
              "ReturnQuantity       0\n",
              "Final_Cost           0\n",
              "Final_Sales          0\n",
              "RtnMRP               0\n",
              "Formulation        653\n",
              "DrugName          1668\n",
              "SubCat            1668\n",
              "SubCat1           1692\n",
              "dtype: int64"
            ]
          },
          "metadata": {},
          "execution_count": 163
        }
      ],
      "source": [
        "\n",
        "df.isnull().sum()"
      ]
    },
    {
      "cell_type": "code",
      "source": [
        "#display data types\n",
        "df.dtypes"
      ],
      "metadata": {
        "colab": {
          "base_uri": "https://localhost:8080/"
        },
        "id": "iCz9WIbaKYib",
        "outputId": "84f90d13-e94f-46b0-a2c1-59aa443ce031"
      },
      "execution_count": null,
      "outputs": [
        {
          "output_type": "execute_result",
          "data": {
            "text/plain": [
              "Typeofsales        object\n",
              "Patient_ID          int64\n",
              "Specialisation     object\n",
              "Dept               object\n",
              "Dateofbill         object\n",
              "Quantity            int64\n",
              "ReturnQuantity      int64\n",
              "Final_Cost        float64\n",
              "Final_Sales       float64\n",
              "RtnMRP            float64\n",
              "Formulation        object\n",
              "DrugName           object\n",
              "SubCat             object\n",
              "SubCat1            object\n",
              "dtype: object"
            ]
          },
          "metadata": {},
          "execution_count": 164
        }
      ]
    },
    {
      "cell_type": "code",
      "source": [
        "#mode imputation\n",
        "categorical_vars = ['Formulation', 'DrugName', 'SubCat', 'SubCat1']\n",
        "for col in categorical_vars:\n",
        "    mode_val = df[col].mode()[0]  # Calculate mode\n",
        "    df[col].fillna(mode_val, inplace=True)"
      ],
      "metadata": {
        "id": "s9bndV4dKiAZ"
      },
      "execution_count": null,
      "outputs": []
    },
    {
      "cell_type": "code",
      "source": [
        "df.isnull().sum()"
      ],
      "metadata": {
        "colab": {
          "base_uri": "https://localhost:8080/"
        },
        "id": "zQq_9H1bOJvf",
        "outputId": "bed38dc8-6d7f-4c51-d215-2e0f737417f9"
      },
      "execution_count": null,
      "outputs": [
        {
          "output_type": "execute_result",
          "data": {
            "text/plain": [
              "Typeofsales       0\n",
              "Patient_ID        0\n",
              "Specialisation    0\n",
              "Dept              0\n",
              "Dateofbill        0\n",
              "Quantity          0\n",
              "ReturnQuantity    0\n",
              "Final_Cost        0\n",
              "Final_Sales       0\n",
              "RtnMRP            0\n",
              "Formulation       0\n",
              "DrugName          0\n",
              "SubCat            0\n",
              "SubCat1           0\n",
              "dtype: int64"
            ]
          },
          "metadata": {},
          "execution_count": 166
        }
      ]
    },
    {
      "cell_type": "markdown",
      "source": [
        "handling duplicates"
      ],
      "metadata": {
        "id": "68gwUVoMO5so"
      }
    },
    {
      "cell_type": "code",
      "source": [],
      "metadata": {
        "id": "5yTXR99NcWoh"
      },
      "execution_count": null,
      "outputs": []
    },
    {
      "cell_type": "code",
      "source": [
        "# Check for duplicates\n",
        "num_duplicates = df.duplicated().sum()\n",
        "\n",
        "# Display the number of duplicates\n",
        "print(\"Number of duplicates:\", num_duplicates)"
      ],
      "metadata": {
        "colab": {
          "base_uri": "https://localhost:8080/"
        },
        "id": "QyGoH7GsQxJp",
        "outputId": "fb514c2d-638c-4bb5-a4f5-6a7b2c1a7a1e"
      },
      "execution_count": null,
      "outputs": [
        {
          "output_type": "stream",
          "name": "stdout",
          "text": [
            "Number of duplicates: 26\n"
          ]
        }
      ]
    },
    {
      "cell_type": "code",
      "source": [
        "#display the duplicate rows\n",
        "duplicate_rows = df[df.duplicated()]\n",
        "print(\"Duplicate rows:\")\n",
        "print(duplicate_rows)"
      ],
      "metadata": {
        "id": "KD5GWwZ1RFUP",
        "colab": {
          "base_uri": "https://localhost:8080/"
        },
        "outputId": "271458c0-2d51-4505-a0d2-270d1a332125"
      },
      "execution_count": null,
      "outputs": [
        {
          "output_type": "stream",
          "name": "stdout",
          "text": [
            "Duplicate rows:\n",
            "      Typeofsales   Patient_ID    Specialisation         Dept  \\\n",
            "2706         Sale  12018107758   Specialisation8  Department1   \n",
            "4444         Sale  12018091924   Specialisation4  Department1   \n",
            "4509         Sale  12018073408   Specialisation4  Department1   \n",
            "5539         Sale  12018111400   Specialisation7  Department1   \n",
            "6254         Sale  12018101171   Specialisation4  Department1   \n",
            "6499         Sale  12018036747   Specialisation7  Department1   \n",
            "6731       Return  12018104215   Specialisation1  Department1   \n",
            "7664         Sale  12018098932   Specialisation8  Department1   \n",
            "7950         Sale  12017999409  Specialisation31  Department1   \n",
            "7968         Sale  12018075690   Specialisation4  Department1   \n",
            "8661         Sale  12018101628   Specialisation7  Department1   \n",
            "8973         Sale  12018117928   Specialisation5  Department1   \n",
            "9470       Return  12018104318   Specialisation8  Department1   \n",
            "9643         Sale  12018103206   Specialisation6  Department1   \n",
            "10990        Sale  12018005796   Specialisation7  Department1   \n",
            "11590        Sale  12018080486   Specialisation7  Department1   \n",
            "12923        Sale  12018093304   Specialisation4  Department1   \n",
            "12925        Sale  12018102716  Specialisation14  Department2   \n",
            "13008        Sale  12018109493   Specialisation4  Department1   \n",
            "13139      Return  12018053294  Specialisation20  Department1   \n",
            "13361        Sale  12018088859   Specialisation7  Department1   \n",
            "13576        Sale  12018082789   Specialisation4  Department1   \n",
            "13748        Sale  12018102905  Specialisation15  Department1   \n",
            "13963      Return  12018098284   Specialisation4  Department1   \n",
            "13966        Sale  12018121201  Specialisation55  Department1   \n",
            "14204      Return  12018003158   Specialisation5  Department1   \n",
            "\n",
            "                Dateofbill  Quantity  ReturnQuantity  Final_Cost  Final_Sales  \\\n",
            "2706             9/25/2022         1               0    1352.500     1602.800   \n",
            "4444             4/29/2022         1               0      46.720       94.120   \n",
            "4509   2022-03-02 00:00:00         2               0     196.800     1980.076   \n",
            "5539            10/25/2022         2               0      47.754      104.204   \n",
            "6254   2022-04-08 00:00:00         1               0      52.224       59.846   \n",
            "6499             6/29/2022         2               0      63.700      109.680   \n",
            "6731             7/21/2022         0               1      52.588        0.000   \n",
            "7664   2022-08-07 00:00:00         1               0      49.352       60.800   \n",
            "7950   2022-04-02 00:00:00         3               0      68.056      182.400   \n",
            "7968   2022-05-03 00:00:00         1               0     233.824      309.200   \n",
            "8661            10/18/2022         2               0      95.860      240.000   \n",
            "8973   2022-09-12 00:00:00         1               0      49.956       62.800   \n",
            "9470   2022-12-09 00:00:00         0               1      51.850        0.000   \n",
            "9643             7/16/2022         1               0      49.352       60.800   \n",
            "10990           12/28/2022         1               0     959.800     1632.400   \n",
            "11590  2022-04-01 00:00:00         1               0     502.000     1116.600   \n",
            "12923            5/22/2022         1               0     292.000      766.800   \n",
            "12925  2022-07-07 00:00:00         1               0      67.930      120.000   \n",
            "13008  2022-05-09 00:00:00         1               0      41.948       42.300   \n",
            "13139            2/17/2022         0               1      52.506        0.000   \n",
            "13361            5/16/2022         1               0     959.800     1632.400   \n",
            "13576            3/19/2022         2               0      41.972       85.248   \n",
            "13748  2022-10-07 00:00:00         1               0      40.784       41.366   \n",
            "13963            8/30/2022         0               1      49.352        0.000   \n",
            "13966  2022-10-12 00:00:00         1               0      49.956       62.800   \n",
            "14204  2022-12-04 00:00:00         0               2      43.176        0.000   \n",
            "\n",
            "       RtnMRP Formulation                             DrugName  \\\n",
            "2706    0.000       Form1    LIPOSOMAL AMPHOTERICIN B 50MG INJ   \n",
            "4444    0.000       Form1                    ESOMEPRAZOLE 40MG   \n",
            "4509    0.000       Form2                    MEROPENEM 1GM INJ   \n",
            "5539    0.000       Form1                      CEFTRIAXONE 1GM   \n",
            "6254    0.000       Form1  PIPERACILLIN 1GM + TAZOBACTAM 125MG   \n",
            "6499    0.000       Form1             DEXTROSE 5% W/V IV FLUID   \n",
            "6731   91.600       Form1            SODIUM CHLORIDE IVF 100ML   \n",
            "7664    0.000       Form1            SODIUM CHLORIDE IVF 100ML   \n",
            "7950    0.000       Form1            SODIUM CHLORIDE IVF 100ML   \n",
            "7968    0.000       Form1        NUTRITIONAL SUPPLEMENT POWDER   \n",
            "8661    0.000       Form1            SODIUM CHLORIDE IVF 100ML   \n",
            "8973    0.000       Form1            SODIUM CHLORIDE IVF 100ML   \n",
            "9470   57.568       Form1                 SODIUM CHLORIDE 0.9%   \n",
            "9643    0.000       Form1            SODIUM CHLORIDE IVF 100ML   \n",
            "10990   0.000       Form1                HUMAN ALBUMIN 25% INJ   \n",
            "11590   0.000       Form1                 DAPTOMYCIN 350MG INJ   \n",
            "12923   0.000       Form1                MINOCYCLINE INJ 100MG   \n",
            "12925   0.000       Form1            SODIUM CHLORIDE IVF 100ML   \n",
            "13008   0.000       Form1           MAGNESIUM SULPHATE 2ML INJ   \n",
            "13139  63.944       Form2                SODIUM CHLORIDE 0.45%   \n",
            "13361   0.000       Form1                HUMAN ALBUMIN 25% INJ   \n",
            "13576   0.000       Form1                   ONDANSETRON 2MG/ML   \n",
            "13748   0.000       Form1                    CALCIUM GLUCONATE   \n",
            "13963  60.800       Form1            SODIUM CHLORIDE IVF 100ML   \n",
            "13966   0.000       Form1            SODIUM CHLORIDE IVF 100ML   \n",
            "14204  85.960       Form1                    PARACETAMOL 150MG   \n",
            "\n",
            "                             SubCat                                  SubCat1  \n",
            "2706                     INJECTIONS                          ANTI-INFECTIVES  \n",
            "4444                     INJECTIONS  GASTROINTESTINAL & HEPATOBILIARY SYSTEM  \n",
            "4509                     INJECTIONS                          ANTI-INFECTIVES  \n",
            "5539                     INJECTIONS                          ANTI-INFECTIVES  \n",
            "6254                     INJECTIONS                          ANTI-INFECTIVES  \n",
            "6499   IV FLUIDS, ELECTROLYTES, TPN    INTRAVENOUS & OTHER STERILE SOLUTIONS  \n",
            "6731                     INJECTIONS    INTRAVENOUS & OTHER STERILE SOLUTIONS  \n",
            "7664                     INJECTIONS    INTRAVENOUS & OTHER STERILE SOLUTIONS  \n",
            "7950                     INJECTIONS    INTRAVENOUS & OTHER STERILE SOLUTIONS  \n",
            "7968        NUTRITIONAL SUPPLEMENTS    INTRAVENOUS & OTHER STERILE SOLUTIONS  \n",
            "8661                     INJECTIONS    INTRAVENOUS & OTHER STERILE SOLUTIONS  \n",
            "8973                     INJECTIONS    INTRAVENOUS & OTHER STERILE SOLUTIONS  \n",
            "9470   IV FLUIDS, ELECTROLYTES, TPN    INTRAVENOUS & OTHER STERILE SOLUTIONS  \n",
            "9643                     INJECTIONS    INTRAVENOUS & OTHER STERILE SOLUTIONS  \n",
            "10990  IV FLUIDS, ELECTROLYTES, TPN    INTRAVENOUS & OTHER STERILE SOLUTIONS  \n",
            "11590                    INJECTIONS                          ANTI-INFECTIVES  \n",
            "12923                    INJECTIONS                          ANTI-INFECTIVES  \n",
            "12925                    INJECTIONS    INTRAVENOUS & OTHER STERILE SOLUTIONS  \n",
            "13008                    INJECTIONS                      VITAMINS & MINERALS  \n",
            "13139  IV FLUIDS, ELECTROLYTES, TPN    INTRAVENOUS & OTHER STERILE SOLUTIONS  \n",
            "13361  IV FLUIDS, ELECTROLYTES, TPN    INTRAVENOUS & OTHER STERILE SOLUTIONS  \n",
            "13576                    INJECTIONS  GASTROINTESTINAL & HEPATOBILIARY SYSTEM  \n",
            "13748                    INJECTIONS    INTRAVENOUS & OTHER STERILE SOLUTIONS  \n",
            "13963                    INJECTIONS    INTRAVENOUS & OTHER STERILE SOLUTIONS  \n",
            "13966                    INJECTIONS    INTRAVENOUS & OTHER STERILE SOLUTIONS  \n",
            "14204                    INJECTIONS                   CENTRAL NERVOUS SYSTEM  \n"
          ]
        }
      ]
    },
    {
      "cell_type": "code",
      "source": [
        "# Remove duplicate rows\n",
        "df_cleaned = df.drop_duplicates()\n",
        "\n",
        "# Check the shape of the cleaned DataFrame to verify that duplicates were removed\n",
        "print(\"Shape of cleaned DataFrame:\", df_cleaned.shape)\n"
      ],
      "metadata": {
        "colab": {
          "base_uri": "https://localhost:8080/"
        },
        "id": "81fQqmWCpJ2Y",
        "outputId": "09a65bdc-6e09-4b3e-dbbf-90de5d57734d"
      },
      "execution_count": null,
      "outputs": [
        {
          "output_type": "stream",
          "name": "stdout",
          "text": [
            "Shape of cleaned DataFrame: (14192, 14)\n"
          ]
        }
      ]
    },
    {
      "cell_type": "markdown",
      "source": [
        "SUMMARY STATISTICS"
      ],
      "metadata": {
        "id": "WItFYBXo2fLE"
      }
    },
    {
      "cell_type": "code",
      "source": [
        "# Summary statistics for relevant columns\n",
        "print(df[['Quantity', 'ReturnQuantity', 'Final_Cost', 'Final_Sales', 'RtnMRP']].describe())\n"
      ],
      "metadata": {
        "colab": {
          "base_uri": "https://localhost:8080/"
        },
        "id": "QsrDIXXIU4UL",
        "outputId": "de37b580-cfe5-46bd-b6f0-a4665dcf0e5e"
      },
      "execution_count": null,
      "outputs": [
        {
          "output_type": "stream",
          "name": "stdout",
          "text": [
            "           Quantity  ReturnQuantity    Final_Cost   Final_Sales        RtnMRP\n",
            "count  14218.000000    14218.000000  14218.000000  14218.000000  14218.000000\n",
            "mean       2.231748        0.291954    124.823957    234.038300     29.126755\n",
            "std        5.132043        1.643322    464.782794    671.261572    182.262335\n",
            "min        0.000000        0.000000     40.000000      0.000000      0.000000\n",
            "25%        1.000000        0.000000     44.928000     47.815000      0.000000\n",
            "50%        1.000000        0.000000     53.650000     86.424000      0.000000\n",
            "75%        2.000000        0.000000     77.800000    181.000000      0.000000\n",
            "max      150.000000       50.000000  33178.000000  39490.000000   8014.000000\n"
          ]
        }
      ]
    },
    {
      "cell_type": "code",
      "source": [
        "df['BounceRate'] = np.where(df['Quantity'] != 0, (df['ReturnQuantity'] / df['Quantity']) * 100, 0)\n",
        "# Calculate average bounce rate\n",
        "average_bounce_rate = df['BounceRate'].mean()\n",
        "print(average_bounce_rate)"
      ],
      "metadata": {
        "colab": {
          "base_uri": "https://localhost:8080/"
        },
        "id": "vhUpYl8B2p4L",
        "outputId": "9966a457-08d1-4218-b555-7b2671ef7307"
      },
      "execution_count": null,
      "outputs": [
        {
          "output_type": "stream",
          "name": "stdout",
          "text": [
            "0.0\n"
          ]
        }
      ]
    },
    {
      "cell_type": "code",
      "source": [
        "# Calculate median and variance for multiple columns\n",
        "columns_of_interest = ['BounceRate', 'Quantity', 'ReturnQuantity', 'Final_Cost', 'Final_Sales', 'RtnMRP']\n",
        "summary_statistics = df[columns_of_interest].agg(['median', 'var'])\n",
        "print(summary_statistics)"
      ],
      "metadata": {
        "colab": {
          "base_uri": "https://localhost:8080/"
        },
        "id": "0btQkAKj2qHC",
        "outputId": "1a031865-9fae-4270-ca78-4b7e3cc75f04"
      },
      "execution_count": null,
      "outputs": [
        {
          "output_type": "stream",
          "name": "stdout",
          "text": [
            "        BounceRate   Quantity  ReturnQuantity     Final_Cost    Final_Sales  \\\n",
            "median         0.0   1.000000        0.000000      53.650000      86.424000   \n",
            "var            0.0  26.337862        2.700506  216023.045394  450592.097666   \n",
            "\n",
            "              RtnMRP  \n",
            "median      0.000000  \n",
            "var     33219.558938  \n"
          ]
        }
      ]
    },
    {
      "cell_type": "markdown",
      "source": [
        "bars\n"
      ],
      "metadata": {
        "id": "y8gTOw4Rdr6M"
      }
    },
    {
      "cell_type": "code",
      "source": [
        "# Distribution visualization for relevant columns\n",
        "sns.histplot(data=df, x='Quantity', bins=20, kde=True)\n",
        "plt.title('Distribution of Quantity')\n",
        "plt.xlabel('Quantity')\n",
        "plt.ylabel('Frequency')\n",
        "plt.show()"
      ],
      "metadata": {
        "colab": {
          "base_uri": "https://localhost:8080/",
          "height": 472
        },
        "id": "Ey1_s29VU4Qt",
        "outputId": "077363c2-f985-487b-abfb-3d1ee849b109"
      },
      "execution_count": null,
      "outputs": [
        {
          "output_type": "display_data",
          "data": {
            "text/plain": [
              "<Figure size 640x480 with 1 Axes>"
            ],
            "image/png": "[encoded data removed]"
          },
          "metadata": {}
        }
      ]
    },
    {
      "cell_type": "code",
      "source": [
        "sns.histplot(data=df, x='ReturnQuantity', bins=20, kde=True)\n",
        "plt.title('Distribution of Return Quantity')\n",
        "plt.xlabel('Return Quantity')\n",
        "plt.ylabel('Frequency')\n",
        "plt.show()"
      ],
      "metadata": {
        "colab": {
          "base_uri": "https://localhost:8080/",
          "height": 472
        },
        "id": "cZ1WfosoYPZV",
        "outputId": "4d06e789-af42-42dc-8b22-49221ac75b74"
      },
      "execution_count": null,
      "outputs": [
        {
          "output_type": "display_data",
          "data": {
            "text/plain": [
              "<Figure size 640x480 with 1 Axes>"
            ],
            "image/png": "[encoded data removed]"
          },
          "metadata": {}
        }
      ]
    },
    {
      "cell_type": "code",
      "source": [
        "# Create a box plot of a numerical variable\n",
        "plt.boxplot(df['Final_Sales'])\n",
        "plt.title('Box Plot of Final Sales')\n",
        "plt.ylabel('Final Sales')\n",
        "plt.show()"
      ],
      "metadata": {
        "colab": {
          "base_uri": "https://localhost:8080/",
          "height": 452
        },
        "id": "OOAgw5MGbwn6",
        "outputId": "3a59abb3-0299-465d-cbe5-9971c6ab1160"
      },
      "execution_count": null,
      "outputs": [
        {
          "output_type": "display_data",
          "data": {
            "text/plain": [
              "<Figure size 640x480 with 1 Axes>"
            ],
            "image/png": "[encoded data removed]"
          },
          "metadata": {}
        }
      ]
    },
    {
      "cell_type": "code",
      "source": [
        "# Visualize bounce rate distribution\n",
        "plt.figure(figsize=(8, 6))\n",
        "plt.hist(df['BounceRate'], bins=20, color='skyblue', edgecolor='black')\n",
        "plt.title('Distribution of Bounce Rate')\n",
        "plt.xlabel('Bounce Rate (%)')\n",
        "plt.ylabel('Frequency')\n",
        "plt.grid(True)\n",
        "plt.show()"
      ],
      "metadata": {
        "colab": {
          "base_uri": "https://localhost:8080/",
          "height": 584
        },
        "id": "zzB54SBJUWry",
        "outputId": "18a26e06-0e77-44cc-93be-94c62d3a8aed"
      },
      "execution_count": null,
      "outputs": [
        {
          "output_type": "display_data",
          "data": {
            "text/plain": [
              "<Figure size 800x600 with 1 Axes>"
            ],
            "image/png": "[encoded data removed]"
          },
          "metadata": {}
        }
      ]
    },
    {
      "cell_type": "code",
      "source": [
        "\n",
        "# Group by SubCat and count returned drug names\n",
        "return_counts_by_subcat = df[df['Typeofsales'] == 'Return'].groupby('SubCat')['DrugName'].count().sort_values(ascending=False)\n",
        "print(\"Returned Drug Names by Subcategory:\")\n",
        "print(return_counts_by_subcat)\n"
      ],
      "metadata": {
        "colab": {
          "base_uri": "https://localhost:8080/"
        },
        "id": "nTrw6Aagemr5",
        "outputId": "30209da7-18ef-4a87-97e4-2ad7eda15118"
      },
      "execution_count": null,
      "outputs": [
        {
          "output_type": "stream",
          "name": "stdout",
          "text": [
            "Returned Drug Names by Subcategory:\n",
            "SubCat\n",
            "INJECTIONS                      926\n",
            "IV FLUIDS, ELECTROLYTES, TPN    475\n",
            "TABLETS & CAPSULES               94\n",
            "INHALERS & RESPULES              71\n",
            "POWDER                           31\n",
            "LIQUIDS & SOLUTIONS              24\n",
            "OINTMENTS, CREAMS & GELS         15\n",
            "SYRUP & SUSPENSION               15\n",
            "PESSARIES & SUPPOSITORIES        11\n",
            "NUTRITIONAL SUPPLEMENTS           8\n",
            "DROPS                             7\n",
            "VACCINE                           2\n",
            "LOTIONS                           1\n",
            "PATCH                             1\n",
            "Name: DrugName, dtype: int64\n"
          ]
        }
      ]
    },
    {
      "cell_type": "code",
      "source": [
        "# Convert date formate to month\n",
        "df['Dateofbill'] = pd.to_datetime(df['Dateofbill'])\n",
        "df['Dateofbill'] = df['Dateofbill'].dt.strftime('%b')\n",
        "df.head()"
      ],
      "metadata": {
        "colab": {
          "base_uri": "https://localhost:8080/",
          "height": 382
        },
        "id": "fxO-0dm9fDDv",
        "outputId": "aee755d2-902a-426f-a766-6c1890a5a0e9"
      },
      "execution_count": null,
      "outputs": [
        {
          "output_type": "execute_result",
          "data": {
            "text/plain": [
              "  Typeofsales   Patient_ID    Specialisation         Dept Dateofbill  \\\n",
              "0        Sale  12018098765   Specialisation6  Department1        Jan   \n",
              "1        Sale  12018103897   Specialisation7  Department1        Jul   \n",
              "2        Sale  12018101123   Specialisation2  Department3        Jun   \n",
              "3        Sale  12018079281  Specialisation40  Department1        Mar   \n",
              "4        Sale  12018117928   Specialisation5  Department1        Dec   \n",
              "\n",
              "   Quantity  ReturnQuantity  Final_Cost  Final_Sales  RtnMRP Formulation  \\\n",
              "0         1               0      55.406       59.260     0.0       Form1   \n",
              "1         1               0     768.638      950.800     0.0       Form1   \n",
              "2         1               0     774.266     4004.214     0.0       Form2   \n",
              "3         2               0      40.798       81.044     0.0       Form1   \n",
              "4         1               0      40.434       40.504     0.0       Form1   \n",
              "\n",
              "                            DrugName              SubCat  \\\n",
              "0          ZINC ACETATE 20MG/5ML SYP  SYRUP & SUSPENSION   \n",
              "1    CEFTAZIDIME 2GM+AVIBACTAM 500MG          INJECTIONS   \n",
              "2             EPTIFIBATIDE 0.75MG/ML          INJECTIONS   \n",
              "3  WATER FOR INJECTION 10ML SOLUTION          INJECTIONS   \n",
              "4                      LORAZEPAM 1MG  TABLETS & CAPSULES   \n",
              "\n",
              "                                 SubCat1  BounceRate  \n",
              "0                    VITAMINS & MINERALS         0.0  \n",
              "1                        ANTI-INFECTIVES         0.0  \n",
              "2  CARDIOVASCULAR & HEMATOPOIETIC SYSTEM         0.0  \n",
              "3  INTRAVENOUS & OTHER STERILE SOLUTIONS         0.0  \n",
              "4                 CENTRAL NERVOUS SYSTEM         0.0  "
            ],
            "text/html": [
              "\n",
              "  <div id=\"df-2e7d115b-c0d3-4cc3-a143-eee37a169bb0\" class=\"colab-df-container\">\n",
              "    <div>\n",
              "<style scoped>\n",
              "    .dataframe tbody tr th:only-of-type {\n",
              "        vertical-align: middle;\n",
              "    }\n",
              "\n",
              "    .dataframe tbody tr th {\n",
              "        vertical-align: top;\n",
              "    }\n",
              "\n",
              "    .dataframe thead th {\n",
              "        text-align: right;\n",
              "    }\n",
              "</style>\n",
              "<table border=\"1\" class=\"dataframe\">\n",
              "  <thead>\n",
              "    <tr style=\"text-align: right;\">\n",
              "      <th></th>\n",
              "      <th>Typeofsales</th>\n",
              "      <th>Patient_ID</th>\n",
              "      <th>Specialisation</th>\n",
              "      <th>Dept</th>\n",
              "      <th>Dateofbill</th>\n",
              "      <th>Quantity</th>\n",
              "      <th>ReturnQuantity</th>\n",
              "      <th>Final_Cost</th>\n",
              "      <th>Final_Sales</th>\n",
              "      <th>RtnMRP</th>\n",
              "      <th>Formulation</th>\n",
              "      <th>DrugName</th>\n",
              "      <th>SubCat</th>\n",
              "      <th>SubCat1</th>\n",
              "      <th>BounceRate</th>\n",
              "    </tr>\n",
              "  </thead>\n",
              "  <tbody>\n",
              "    <tr>\n",
              "      <th>0</th>\n",
              "      <td>Sale</td>\n",
              "      <td>12018098765</td>\n",
              "      <td>Specialisation6</td>\n",
              "      <td>Department1</td>\n",
              "      <td>Jan</td>\n",
              "      <td>1</td>\n",
              "      <td>0</td>\n",
              "      <td>55.406</td>\n",
              "      <td>59.260</td>\n",
              "      <td>0.0</td>\n",
              "      <td>Form1</td>\n",
              "      <td>ZINC ACETATE 20MG/5ML SYP</td>\n",
              "      <td>SYRUP &amp; SUSPENSION</td>\n",
              "      <td>VITAMINS &amp; MINERALS</td>\n",
              "      <td>0.0</td>\n",
              "    </tr>\n",
              "    <tr>\n",
              "      <th>1</th>\n",
              "      <td>Sale</td>\n",
              "      <td>12018103897</td>\n",
              "      <td>Specialisation7</td>\n",
              "      <td>Department1</td>\n",
              "      <td>Jul</td>\n",
              "      <td>1</td>\n",
              "      <td>0</td>\n",
              "      <td>768.638</td>\n",
              "      <td>950.800</td>\n",
              "      <td>0.0</td>\n",
              "      <td>Form1</td>\n",
              "      <td>CEFTAZIDIME 2GM+AVIBACTAM 500MG</td>\n",
              "      <td>INJECTIONS</td>\n",
              "      <td>ANTI-INFECTIVES</td>\n",
              "      <td>0.0</td>\n",
              "    </tr>\n",
              "    <tr>\n",
              "      <th>2</th>\n",
              "      <td>Sale</td>\n",
              "      <td>12018101123</td>\n",
              "      <td>Specialisation2</td>\n",
              "      <td>Department3</td>\n",
              "      <td>Jun</td>\n",
              "      <td>1</td>\n",
              "      <td>0</td>\n",
              "      <td>774.266</td>\n",
              "      <td>4004.214</td>\n",
              "      <td>0.0</td>\n",
              "      <td>Form2</td>\n",
              "      <td>EPTIFIBATIDE 0.75MG/ML</td>\n",
              "      <td>INJECTIONS</td>\n",
              "      <td>CARDIOVASCULAR &amp; HEMATOPOIETIC SYSTEM</td>\n",
              "      <td>0.0</td>\n",
              "    </tr>\n",
              "    <tr>\n",
              "      <th>3</th>\n",
              "      <td>Sale</td>\n",
              "      <td>12018079281</td>\n",
              "      <td>Specialisation40</td>\n",
              "      <td>Department1</td>\n",
              "      <td>Mar</td>\n",
              "      <td>2</td>\n",
              "      <td>0</td>\n",
              "      <td>40.798</td>\n",
              "      <td>81.044</td>\n",
              "      <td>0.0</td>\n",
              "      <td>Form1</td>\n",
              "      <td>WATER FOR INJECTION 10ML SOLUTION</td>\n",
              "      <td>INJECTIONS</td>\n",
              "      <td>INTRAVENOUS &amp; OTHER STERILE SOLUTIONS</td>\n",
              "      <td>0.0</td>\n",
              "    </tr>\n",
              "    <tr>\n",
              "      <th>4</th>\n",
              "      <td>Sale</td>\n",
              "      <td>12018117928</td>\n",
              "      <td>Specialisation5</td>\n",
              "      <td>Department1</td>\n",
              "      <td>Dec</td>\n",
              "      <td>1</td>\n",
              "      <td>0</td>\n",
              "      <td>40.434</td>\n",
              "      <td>40.504</td>\n",
              "      <td>0.0</td>\n",
              "      <td>Form1</td>\n",
              "      <td>LORAZEPAM 1MG</td>\n",
              "      <td>TABLETS &amp; CAPSULES</td>\n",
              "      <td>CENTRAL NERVOUS SYSTEM</td>\n",
              "      <td>0.0</td>\n",
              "    </tr>\n",
              "  </tbody>\n",
              "</table>\n",
              "</div>\n",
              "    <div class=\"colab-df-buttons\">\n",
              "\n",
              "  <div class=\"colab-df-container\">\n",
              "    <button class=\"colab-df-convert\" onclick=\"convertToInteractive('df-2e7d115b-c0d3-4cc3-a143-eee37a169bb0')\"\n",
              "            title=\"Convert this dataframe to an interactive table.\"\n",
              "            style=\"display:none;\">\n",
              "\n",
              "  <svg xmlns=\"http://www.w3.org/2000/svg\" height=\"24px\" viewBox=\"0 -960 960 960\">\n",
              "    <path d=\"M120-120v-720h720v720H120Zm60-500h600v-160H180v160Zm220 220h160v-160H400v160Zm0 220h160v-160H400v160ZM180-400h160v-160H180v160Zm440 0h160v-160H620v160ZM180-180h160v-160H180v160Zm440 0h160v-160H620v160Z\"/>\n",
              "  </svg>\n",
              "    </button>\n",
              "\n",
              "  <style>\n",
              "    .colab-df-container {\n",
              "      display:flex;\n",
              "      gap: 12px;\n",
              "    }\n",
              "\n",
              "    .colab-df-convert {\n",
              "      background-color: #E8F0FE;\n",
              "      border: none;\n",
              "      border-radius: 50%;\n",
              "      cursor: pointer;\n",
              "      display: none;\n",
              "      fill: #1967D2;\n",
              "      height: 32px;\n",
              "      padding: 0 0 0 0;\n",
              "      width: 32px;\n",
              "    }\n",
              "\n",
              "    .colab-df-convert:hover {\n",
              "      background-color: #E2EBFA;\n",
              "      box-shadow: 0px 1px 2px rgba(60, 64, 67, 0.3), 0px 1px 3px 1px rgba(60, 64, 67, 0.15);\n",
              "      fill: #174EA6;\n",
              "    }\n",
              "\n",
              "    .colab-df-buttons div {\n",
              "      margin-bottom: 4px;\n",
              "    }\n",
              "\n",
              "    [theme=dark] .colab-df-convert {\n",
              "      background-color: #3B4455;\n",
              "      fill: #D2E3FC;\n",
              "    }\n",
              "\n",
              "    [theme=dark] .colab-df-convert:hover {\n",
              "      background-color: #434B5C;\n",
              "      box-shadow: 0px 1px 3px 1px rgba(0, 0, 0, 0.15);\n",
              "      filter: drop-shadow(0px 1px 2px rgba(0, 0, 0, 0.3));\n",
              "      fill: #FFFFFF;\n",
              "    }\n",
              "  </style>\n",
              "\n",
              "    <script>\n",
              "      const buttonEl =\n",
              "        document.querySelector('#df-2e7d115b-c0d3-4cc3-a143-eee37a169bb0 button.colab-df-convert');\n",
              "      buttonEl.style.display =\n",
              "        google.colab.kernel.accessAllowed ? 'block' : 'none';\n",
              "\n",
              "      async function convertToInteractive(key) {\n",
              "        const element = document.querySelector('#df-2e7d115b-c0d3-4cc3-a143-eee37a169bb0');\n",
              "        const dataTable =\n",
              "          await google.colab.kernel.invokeFunction('convertToInteractive',\n",
              "                                                    [key], {});\n",
              "        if (!dataTable) return;\n",
              "\n",
              "        const docLinkHtml = 'Like what you see? Visit the ' +\n",
              "          '<a target=\"_blank\" href=https://colab.research.google.com/notebooks/data_table.ipynb>data table notebook</a>'\n",
              "          + ' to learn more about interactive tables.';\n",
              "        element.innerHTML = '';\n",
              "        dataTable['output_type'] = 'display_data';\n",
              "        await google.colab.output.renderOutput(dataTable, element);\n",
              "        const docLink = document.createElement('div');\n",
              "        docLink.innerHTML = docLinkHtml;\n",
              "        element.appendChild(docLink);\n",
              "      }\n",
              "    </script>\n",
              "  </div>\n",
              "\n",
              "\n",
              "<div id=\"df-a418ea3f-fba7-4d3a-a8b8-55ee84dd46ac\">\n",
              "  <button class=\"colab-df-quickchart\" onclick=\"quickchart('df-a418ea3f-fba7-4d3a-a8b8-55ee84dd46ac')\"\n",
              "            title=\"Suggest charts\"\n",
              "            style=\"display:none;\">\n",
              "\n",
              "<svg xmlns=\"http://www.w3.org/2000/svg\" height=\"24px\"viewBox=\"0 0 24 24\"\n",
              "     width=\"24px\">\n",
              "    <g>\n",
              "        <path d=\"M19 3H5c-1.1 0-2 .9-2 2v14c0 1.1.9 2 2 2h14c1.1 0 2-.9 2-2V5c0-1.1-.9-2-2-2zM9 17H7v-7h2v7zm4 0h-2V7h2v10zm4 0h-2v-4h2v4z\"/>\n",
              "    </g>\n",
              "</svg>\n",
              "  </button>\n",
              "\n",
              "<style>\n",
              "  .colab-df-quickchart {\n",
              "      --bg-color: #E8F0FE;\n",
              "      --fill-color: #1967D2;\n",
              "      --hover-bg-color: #E2EBFA;\n",
              "      --hover-fill-color: #174EA6;\n",
              "      --disabled-fill-color: #AAA;\n",
              "      --disabled-bg-color: #DDD;\n",
              "  }\n",
              "\n",
              "  [theme=dark] .colab-df-quickchart {\n",
              "      --bg-color: #3B4455;\n",
              "      --fill-color: #D2E3FC;\n",
              "      --hover-bg-color: #434B5C;\n",
              "      --hover-fill-color: #FFFFFF;\n",
              "      --disabled-bg-color: #3B4455;\n",
              "      --disabled-fill-color: #666;\n",
              "  }\n",
              "\n",
              "  .colab-df-quickchart {\n",
              "    background-color: var(--bg-color);\n",
              "    border: none;\n",
              "    border-radius: 50%;\n",
              "    cursor: pointer;\n",
              "    display: none;\n",
              "    fill: var(--fill-color);\n",
              "    height: 32px;\n",
              "    padding: 0;\n",
              "    width: 32px;\n",
              "  }\n",
              "\n",
              "  .colab-df-quickchart:hover {\n",
              "    background-color: var(--hover-bg-color);\n",
              "    box-shadow: 0 1px 2px rgba(60, 64, 67, 0.3), 0 1px 3px 1px rgba(60, 64, 67, 0.15);\n",
              "    fill: var(--button-hover-fill-color);\n",
              "  }\n",
              "\n",
              "  .colab-df-quickchart-complete:disabled,\n",
              "  .colab-df-quickchart-complete:disabled:hover {\n",
              "    background-color: var(--disabled-bg-color);\n",
              "    fill: var(--disabled-fill-color);\n",
              "    box-shadow: none;\n",
              "  }\n",
              "\n",
              "  .colab-df-spinner {\n",
              "    border: 2px solid var(--fill-color);\n",
              "    border-color: transparent;\n",
              "    border-bottom-color: var(--fill-color);\n",
              "    animation:\n",
              "      spin 1s steps(1) infinite;\n",
              "  }\n",
              "\n",
              "  @keyframes spin {\n",
              "    0% {\n",
              "      border-color: transparent;\n",
              "      border-bottom-color: var(--fill-color);\n",
              "      border-left-color: var(--fill-color);\n",
              "    }\n",
              "    20% {\n",
              "      border-color: transparent;\n",
              "      border-left-color: var(--fill-color);\n",
              "      border-top-color: var(--fill-color);\n",
              "    }\n",
              "    30% {\n",
              "      border-color: transparent;\n",
              "      border-left-color: var(--fill-color);\n",
              "      border-top-color: var(--fill-color);\n",
              "      border-right-color: var(--fill-color);\n",
              "    }\n",
              "    40% {\n",
              "      border-color: transparent;\n",
              "      border-right-color: var(--fill-color);\n",
              "      border-top-color: var(--fill-color);\n",
              "    }\n",
              "    60% {\n",
              "      border-color: transparent;\n",
              "      border-right-color: var(--fill-color);\n",
              "    }\n",
              "    80% {\n",
              "      border-color: transparent;\n",
              "      border-right-color: var(--fill-color);\n",
              "      border-bottom-color: var(--fill-color);\n",
              "    }\n",
              "    90% {\n",
              "      border-color: transparent;\n",
              "      border-bottom-color: var(--fill-color);\n",
              "    }\n",
              "  }\n",
              "</style>\n",
              "\n",
              "  <script>\n",
              "    async function quickchart(key) {\n",
              "      const quickchartButtonEl =\n",
              "        document.querySelector('#' + key + ' button');\n",
              "      quickchartButtonEl.disabled = true;  // To prevent multiple clicks.\n",
              "      quickchartButtonEl.classList.add('colab-df-spinner');\n",
              "      try {\n",
              "        const charts = await google.colab.kernel.invokeFunction(\n",
              "            'suggestCharts', [key], {});\n",
              "      } catch (error) {\n",
              "        console.error('Error during call to suggestCharts:', error);\n",
              "      }\n",
              "      quickchartButtonEl.classList.remove('colab-df-spinner');\n",
              "      quickchartButtonEl.classList.add('colab-df-quickchart-complete');\n",
              "    }\n",
              "    (() => {\n",
              "      let quickchartButtonEl =\n",
              "        document.querySelector('#df-a418ea3f-fba7-4d3a-a8b8-55ee84dd46ac button');\n",
              "      quickchartButtonEl.style.display =\n",
              "        google.colab.kernel.accessAllowed ? 'block' : 'none';\n",
              "    })();\n",
              "  </script>\n",
              "</div>\n",
              "\n",
              "    </div>\n",
              "  </div>\n"
            ],
            "application/vnd.google.colaboratory.intrinsic+json": {
              "type": "dataframe",
              "variable_name": "df",
              "summary": "{\n  \"name\": \"df\",\n  \"rows\": 14218,\n  \"fields\": [\n    {\n      \"column\": \"Typeofsales\",\n      \"properties\": {\n        \"dtype\": \"category\",\n        \"num_unique_values\": 2,\n        \"samples\": [\n          \"Return\",\n          \"Sale\"\n        ],\n        \"semantic_type\": \"\",\n        \"description\": \"\"\n      }\n    },\n    {\n      \"column\": \"Patient_ID\",\n      \"properties\": {\n        \"dtype\": \"number\",\n        \"std\": 28102,\n        \"min\": 12017998218,\n        \"max\": 12018125353,\n        \"num_unique_values\": 4883,\n        \"samples\": [\n          12018101846,\n          12018081318\n        ],\n        \"semantic_type\": \"\",\n        \"description\": \"\"\n      }\n    },\n    {\n      \"column\": \"Specialisation\",\n      \"properties\": {\n        \"dtype\": \"category\",\n        \"num_unique_values\": 58,\n        \"samples\": [\n          \"Specialisation6\",\n          \"Specialisation4\"\n        ],\n        \"semantic_type\": \"\",\n        \"description\": \"\"\n      }\n    },\n    {\n      \"column\": \"Dept\",\n      \"properties\": {\n        \"dtype\": \"category\",\n        \"num_unique_values\": 3,\n        \"samples\": [\n          \"Department1\",\n          \"Department3\"\n        ],\n        \"semantic_type\": \"\",\n        \"description\": \"\"\n      }\n    },\n    {\n      \"column\": \"Dateofbill\",\n      \"properties\": {\n        \"dtype\": \"category\",\n        \"num_unique_values\": 12,\n        \"samples\": [\n          \"Sep\",\n          \"Nov\"\n        ],\n        \"semantic_type\": \"\",\n        \"description\": \"\"\n      }\n    },\n    {\n      \"column\": \"Quantity\",\n      \"properties\": {\n        \"dtype\": \"number\",\n        \"std\": 5,\n        \"min\": 0,\n        \"max\": 150,\n        \"num_unique_values\": 45,\n        \"samples\": [\n          150,\n          19\n        ],\n        \"semantic_type\": \"\",\n        \"description\": \"\"\n      }\n    },\n    {\n      \"column\": \"ReturnQuantity\",\n      \"properties\": {\n        \"dtype\": \"number\",\n        \"std\": 1,\n        \"min\": 0,\n        \"max\": 50,\n        \"num_unique_values\": 33,\n        \"samples\": [\n          24,\n          6\n        ],\n        \"semantic_type\": \"\",\n        \"description\": \"\"\n      }\n    },\n    {\n      \"column\": \"Final_Cost\",\n      \"properties\": {\n        \"dtype\": \"number\",\n        \"std\": 464.78279377975025,\n        \"min\": 40.0,\n        \"max\": 33178.0,\n        \"num_unique_values\": 2322,\n        \"samples\": [\n          45.7,\n          279.792\n        ],\n        \"semantic_type\": \"\",\n        \"description\": \"\"\n      }\n    },\n    {\n      \"column\": \"Final_Sales\",\n      \"properties\": {\n        \"dtype\": \"number\",\n        \"std\": 671.2615717182335,\n        \"min\": 0.0,\n        \"max\": 39490.0,\n        \"num_unique_values\": 2042,\n        \"samples\": [\n          43.88,\n          114.168\n        ],\n        \"semantic_type\": \"\",\n        \"description\": \"\"\n      }\n    },\n    {\n      \"column\": \"RtnMRP\",\n      \"properties\": {\n        \"dtype\": \"number\",\n        \"std\": 182.26233548999025,\n        \"min\": 0.0,\n        \"max\": 8014.0,\n        \"num_unique_values\": 689,\n        \"samples\": [\n          413.66,\n          461.82\n        ],\n        \"semantic_type\": \"\",\n        \"description\": \"\"\n      }\n    },\n    {\n      \"column\": \"Formulation\",\n      \"properties\": {\n        \"dtype\": \"category\",\n        \"num_unique_values\": 4,\n        \"samples\": [\n          \"Form2\",\n          \"Form3\"\n        ],\n        \"semantic_type\": \"\",\n        \"description\": \"\"\n      }\n    },\n    {\n      \"column\": \"DrugName\",\n      \"properties\": {\n        \"dtype\": \"category\",\n        \"num_unique_values\": 751,\n        \"samples\": [\n          \"PREDNISOLONE 5MG\",\n          \"PHENYLEPHRINE 10 MG\"\n        ],\n        \"semantic_type\": \"\",\n        \"description\": \"\"\n      }\n    },\n    {\n      \"column\": \"SubCat\",\n      \"properties\": {\n        \"dtype\": \"category\",\n        \"num_unique_values\": 17,\n        \"samples\": [\n          \"SYRUP & SUSPENSION\",\n          \"INJECTIONS\"\n        ],\n        \"semantic_type\": \"\",\n        \"description\": \"\"\n      }\n    },\n    {\n      \"column\": \"SubCat1\",\n      \"properties\": {\n        \"dtype\": \"category\",\n        \"num_unique_values\": 21,\n        \"samples\": [\n          \"VITAMINS & MINERALS\",\n          \"MISCELLANEOUS\"\n        ],\n        \"semantic_type\": \"\",\n        \"description\": \"\"\n      }\n    },\n    {\n      \"column\": \"BounceRate\",\n      \"properties\": {\n        \"dtype\": \"number\",\n        \"std\": 0.0,\n        \"min\": 0.0,\n        \"max\": 0.0,\n        \"num_unique_values\": 1,\n        \"samples\": [\n          0.0\n        ],\n        \"semantic_type\": \"\",\n        \"description\": \"\"\n      }\n    }\n  ]\n}"
            }
          },
          "metadata": {},
          "execution_count": 180
        }
      ]
    },
    {
      "cell_type": "code",
      "source": [
        "sns.barplot(data = df, x = 'Dateofbill', y = 'Quantity')\n",
        "plt.title('Quantity of drugs sold by Month')\n",
        "plt.show()\n"
      ],
      "metadata": {
        "colab": {
          "base_uri": "https://localhost:8080/",
          "height": 472
        },
        "id": "RfSa5-s_iCFc",
        "outputId": "3aeec13c-a1e1-4359-90ee-9033b3041cdc"
      },
      "execution_count": null,
      "outputs": [
        {
          "output_type": "display_data",
          "data": {
            "text/plain": [
              "<Figure size 640x480 with 1 Axes>"
            ],
            "image/png": "[encoded data removed]"
          },
          "metadata": {}
        }
      ]
    },
    {
      "source": [
        "#  Typeofsales vs Dept\n",
        "\n",
        "from matplotlib import pyplot as plt\n",
        "import seaborn as sns\n",
        "import pandas as pd\n",
        "plt.subplots(figsize=(8, 8))\n",
        "df_2dhist = pd.DataFrame({\n",
        "    x_label: grp['Dept'].value_counts()\n",
        "    for x_label, grp in df.groupby('Typeofsales')\n",
        "})\n",
        "sns.heatmap(df_2dhist, cmap='viridis')\n",
        "plt.xlabel('Typeofsales')\n",
        "_ = plt.ylabel('Dept')"
      ],
      "cell_type": "code",
      "execution_count": null,
      "outputs": [
        {
          "output_type": "display_data",
          "data": {
            "text/plain": [
              "<Figure size 800x800 with 2 Axes>"
            ],
            "image/png": "[encoded data removed]"
          },
          "metadata": {}
        }
      ],
      "metadata": {
        "colab": {
          "base_uri": "https://localhost:8080/",
          "height": 682
        },
        "id": "n8bKVNxQh7m4",
        "outputId": "62e63887-c306-4537-ab63-e579480b5c58"
      }
    },
    {
      "source": [
        "# Formulation\n",
        "\n",
        "from matplotlib import pyplot as plt\n",
        "import seaborn as sns\n",
        "df.groupby('Formulation').size().plot(kind='barh', color=sns.palettes.mpl_palette('Dark2'))\n",
        "plt.gca().spines[['top', 'right',]].set_visible(False)"
      ],
      "cell_type": "code",
      "execution_count": null,
      "outputs": [
        {
          "output_type": "display_data",
          "data": {
            "text/plain": [
              "<Figure size 640x480 with 1 Axes>"
            ],
            "image/png": "[encoded data removed]"
          },
          "metadata": {}
        }
      ],
      "metadata": {
        "colab": {
          "base_uri": "https://localhost:8080/",
          "height": 430
        },
        "id": "gtbmjiRfhh0p",
        "outputId": "3cf7d73c-0d3e-4c66-b8a4-2a9cd030ea85"
      }
    },
    {
      "source": [
        "# Typeofsales\n",
        "\n",
        "from matplotlib import pyplot as plt\n",
        "import seaborn as sns\n",
        "df.groupby('Typeofsales').size().plot(kind='barh', color=sns.palettes.mpl_palette('Dark2'))\n",
        "plt.gca().spines[['top', 'right',]].set_visible(False)"
      ],
      "cell_type": "code",
      "execution_count": null,
      "outputs": [
        {
          "output_type": "display_data",
          "data": {
            "text/plain": [
              "<Figure size 640x480 with 1 Axes>"
            ],
            "image/png": "[encoded data removed]"
          },
          "metadata": {}
        }
      ],
      "metadata": {
        "colab": {
          "base_uri": "https://localhost:8080/",
          "height": 430
        },
        "id": "AgUjZG31hYhd",
        "outputId": "ef7913f5-ab84-4416-fd6e-7b5235184a2c"
      }
    },
    {
      "cell_type": "code",
      "source": [
        "\n",
        "# Create a new column to represent seasons\n",
        "df['Season'] = np.select(\n",
        "    [df['Dateofbill'].isin(['Apr', 'Aug', 'Dec']), df['Dateofbill'].isin(['Jan', 'Jun', 'Sep', 'Nov']), df['Dateofbill'].isin(['Feb', 'Mar', 'May', 'Jul', 'Oct'])],\n",
        "    ['High Season', 'Low Season', 'Mid Season'], default='Unknown Season')\n",
        "\n",
        "# Group data by season and calculate average revenue\n",
        "average_revenue_by_season = df.groupby('Season')['Final_Sales'].mean()\n",
        "\n",
        "# Print the average revenue for each season\n",
        "print(\"Average Revenue by Season:\")\n",
        "print(average_revenue_by_season)\n",
        "\n",
        "# Create a bar plot to visualize average revenue by season\n",
        "sns.barplot(x=average_revenue_by_season.index, y=average_revenue_by_season.values)\n",
        "plt.title('Average Revenue by Season')\n",
        "plt.xlabel('Season')\n",
        "plt.ylabel('Average Revenue')\n",
        "plt.show()\n"
      ],
      "metadata": {
        "colab": {
          "base_uri": "https://localhost:8080/",
          "height": 580
        },
        "id": "10BVi8DLilFh",
        "outputId": "4d9f6def-6289-40b7-de72-23f2a1b4df84"
      },
      "execution_count": null,
      "outputs": [
        {
          "output_type": "stream",
          "name": "stdout",
          "text": [
            "Average Revenue by Season:\n",
            "Season\n",
            "High Season    248.009715\n",
            "Low Season     226.299938\n",
            "Mid Season     230.772746\n",
            "Name: Final_Sales, dtype: float64\n"
          ]
        },
        {
          "output_type": "display_data",
          "data": {
            "text/plain": [
              "<Figure size 640x480 with 1 Axes>"
            ],
            "image/png": "[encoded data removed]"
          },
          "metadata": {}
        }
      ]
    },
    {
      "cell_type": "code",
      "source": [
        "# Filter data for Department1 and count return occurrences by Specialisation\n",
        "return_counts_by_specialisation = df[(df['Typeofsales'] == 'Return') & (df['Dept'] == 'Department1')].groupby('Specialisation')['Patient_ID'].count().sort_values(ascending=False)\n",
        "print(\"Return Occurrences by Specialisation in Department1:\")\n",
        "print(return_counts_by_specialisation)\n"
      ],
      "metadata": {
        "colab": {
          "base_uri": "https://localhost:8080/"
        },
        "id": "kHS0Fmcyiz6a",
        "outputId": "40fdf2fc-e917-4b62-9813-6270d115c9b5"
      },
      "execution_count": null,
      "outputs": [
        {
          "output_type": "stream",
          "name": "stdout",
          "text": [
            "Return Occurrences by Specialisation in Department1:\n",
            "Specialisation\n",
            "Specialisation4     507\n",
            "Specialisation7     277\n",
            "Specialisation3      93\n",
            "Specialisation5      76\n",
            "Specialisation8      72\n",
            "Specialisation2      65\n",
            "Specialisation1      59\n",
            "Specialisation20     52\n",
            "Specialisation6      50\n",
            "Specialisation11     50\n",
            "Specialisation16     49\n",
            "Specialisation21     44\n",
            "Specialisation26     32\n",
            "Specialisation17     26\n",
            "Specialisation23     26\n",
            "Specialisation14     25\n",
            "Specialisation15     21\n",
            "Specialisation42     15\n",
            "Specialisation25     15\n",
            "Specialisation31     15\n",
            "Specialisation27     12\n",
            "Specialisation10     11\n",
            "Specialisation9      11\n",
            "Specialisation41      9\n",
            "Specialisation33      8\n",
            "Specialisation45      6\n",
            "Specialisation39      6\n",
            "Specialisation54      6\n",
            "Specialisation55      5\n",
            "Specialisation50      5\n",
            "Specialisation19      5\n",
            "Specialisation34      5\n",
            "Specialisation43      3\n",
            "Specialisation40      3\n",
            "Specialisation28      3\n",
            "Specialisation12      2\n",
            "Specialisation49      2\n",
            "Specialisation44      1\n",
            "Specialisation48      1\n",
            "Specialisation38      1\n",
            "Specialisation22      1\n",
            "Specialisation53      1\n",
            "Specialisation18      1\n",
            "Specialisation13      1\n",
            "Specialisation70      1\n",
            "Specialisation75      1\n",
            "Name: Patient_ID, dtype: int64\n"
          ]
        }
      ]
    },
    {
      "cell_type": "code",
      "source": [
        "target_bounce_rate_reduction = 30  # Target percentage reduction in bounce rate\n",
        "expected_revenue_increase = 2000000  # Expected revenue increase in INR (20 lacs)\n",
        "\n",
        "# Compare average bounce rate to business goal\n",
        "average_bounce_rate = df['BounceRate'].mean()\n",
        "if average_bounce_rate <= (100 - target_bounce_rate_reduction):\n",
        "    print(\"The average bounce rate meets the target reduction goal of\", target_bounce_rate_reduction, \"%.\")\n",
        "else:\n",
        "    print(\"The average bounce rate does not meet the target reduction goal of\", target_bounce_rate_reduction, \"%.\")"
      ],
      "metadata": {
        "colab": {
          "base_uri": "https://localhost:8080/"
        },
        "id": "rxtRlAoz157z",
        "outputId": "b7915116-10d8-4d16-834c-a15805b035b7"
      },
      "execution_count": null,
      "outputs": [
        {
          "output_type": "stream",
          "name": "stdout",
          "text": [
            "The average bounce rate meets the target reduction goal of 30 %.\n"
          ]
        }
      ]
    },
    {
      "cell_type": "code",
      "source": [],
      "metadata": {
        "id": "-IDbufpj2Eoe"
      },
      "execution_count": null,
      "outputs": []
    }
  ],
  "metadata": {
    "colab": {
      "provenance": [],
      "toc_visible": true,
      "authorship_tag": "ABX9TyNEZHxmI9aucYn3dMUM6l0x",
      "include_colab_link": true
    },
    "kernelspec": {
      "display_name": "Python 3",
      "name": "python3"
    },
    "language_info": {
      "name": "python"
    }
  },
  "nbformat": 4,
  "nbformat_minor": 0
}